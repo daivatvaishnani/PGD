{
 "cells": [
  {
   "cell_type": "code",
   "execution_count": 11,
   "metadata": {},
   "outputs": [
    {
     "name": "stdout",
     "output_type": "stream",
     "text": [
      "woof!\n"
     ]
    }
   ],
   "source": [
    "class Dog:\n",
    "     def bark():\n",
    "        print(\"woof!\")\n",
    "\n",
    "Dog.bark()        "
   ]
  },
  {
   "cell_type": "code",
   "execution_count": 26,
   "metadata": {},
   "outputs": [
    {
     "name": "stdout",
     "output_type": "stream",
     "text": [
      "s1\n",
      "s2\n",
      "150\n",
      "160\n",
      "100\n"
     ]
    }
   ],
   "source": [
    "class Student:\n",
    "    fee = 100\n",
    "    \n",
    "    def __init__(self, name):\n",
    "        self.name = name\n",
    "        self.fee = 1000\n",
    "    \n",
    "    def change_fee(self, fee):\n",
    "        self.fee = fee\n",
    "\n",
    "s1 = Student(\"s1\")\n",
    "s2 = Student(\"s2\")\n",
    "print(s1.name)\n",
    "print(s2.name)\n",
    "s1.change_fee(150)\n",
    "s2.change_fee(160)\n",
    "print(s1.fee)\n",
    "print(s2.fee)\n",
    "print(Student.fee)"
   ]
  },
  {
   "cell_type": "code",
   "execution_count": null,
   "metadata": {},
   "outputs": [],
   "source": []
  }
 ],
 "metadata": {
  "kernelspec": {
   "display_name": "Python 3",
   "language": "python",
   "name": "python3"
  },
  "language_info": {
   "codemirror_mode": {
    "name": "ipython",
    "version": 3
   },
   "file_extension": ".py",
   "mimetype": "text/x-python",
   "name": "python",
   "nbconvert_exporter": "python",
   "pygments_lexer": "ipython3",
   "version": "3.7.6"
  }
 },
 "nbformat": 4,
 "nbformat_minor": 4
}
