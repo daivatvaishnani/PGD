{
 "cells": [
  {
   "cell_type": "code",
   "execution_count": 12,
   "metadata": {},
   "outputs": [],
   "source": [
    "import pandas as pd"
   ]
  },
  {
   "cell_type": "code",
   "execution_count": 13,
   "metadata": {},
   "outputs": [],
   "source": [
    "studentLoans = pd.read_csv('Inferential Statistics - Student Loan.csv')"
   ]
  },
  {
   "cell_type": "code",
   "execution_count": 14,
   "metadata": {},
   "outputs": [
    {
     "data": {
      "text/plain": [
       "(10000, 6)"
      ]
     },
     "execution_count": 14,
     "metadata": {},
     "output_type": "execute_result"
    }
   ],
   "source": [
    "studentLoans.shape"
   ]
  },
  {
   "cell_type": "code",
   "execution_count": 15,
   "metadata": {},
   "outputs": [
    {
     "data": {
      "text/html": [
       "<div>\n",
       "<style scoped>\n",
       "    .dataframe tbody tr th:only-of-type {\n",
       "        vertical-align: middle;\n",
       "    }\n",
       "\n",
       "    .dataframe tbody tr th {\n",
       "        vertical-align: top;\n",
       "    }\n",
       "\n",
       "    .dataframe thead th {\n",
       "        text-align: right;\n",
       "    }\n",
       "</style>\n",
       "<table border=\"1\" class=\"dataframe\">\n",
       "  <thead>\n",
       "    <tr style=\"text-align: right;\">\n",
       "      <th></th>\n",
       "      <th>Customer No.</th>\n",
       "      <th>Exposure at Default (in lakh Rs.)</th>\n",
       "      <th>Recovery (%)</th>\n",
       "      <th>Probability of Default</th>\n",
       "      <th>Unnamed: 4</th>\n",
       "      <th>Unnamed: 5</th>\n",
       "    </tr>\n",
       "  </thead>\n",
       "  <tbody>\n",
       "    <tr>\n",
       "      <th>0</th>\n",
       "      <td>1</td>\n",
       "      <td>11.50</td>\n",
       "      <td>20.00%</td>\n",
       "      <td>0.0070</td>\n",
       "      <td>NaN</td>\n",
       "      <td>NaN</td>\n",
       "    </tr>\n",
       "    <tr>\n",
       "      <th>1</th>\n",
       "      <td>2</td>\n",
       "      <td>0.24</td>\n",
       "      <td>5.10%</td>\n",
       "      <td>0.0033</td>\n",
       "      <td>NaN</td>\n",
       "      <td>NaN</td>\n",
       "    </tr>\n",
       "    <tr>\n",
       "      <th>2</th>\n",
       "      <td>3</td>\n",
       "      <td>0.04</td>\n",
       "      <td>24.86%</td>\n",
       "      <td>0.0022</td>\n",
       "      <td>NaN</td>\n",
       "      <td>NaN</td>\n",
       "    </tr>\n",
       "    <tr>\n",
       "      <th>3</th>\n",
       "      <td>4</td>\n",
       "      <td>13.81</td>\n",
       "      <td>2.29%</td>\n",
       "      <td>0.0066</td>\n",
       "      <td>NaN</td>\n",
       "      <td>NaN</td>\n",
       "    </tr>\n",
       "    <tr>\n",
       "      <th>4</th>\n",
       "      <td>5</td>\n",
       "      <td>19.84</td>\n",
       "      <td>3.47%</td>\n",
       "      <td>0.0020</td>\n",
       "      <td>NaN</td>\n",
       "      <td>NaN</td>\n",
       "    </tr>\n",
       "    <tr>\n",
       "      <th>...</th>\n",
       "      <td>...</td>\n",
       "      <td>...</td>\n",
       "      <td>...</td>\n",
       "      <td>...</td>\n",
       "      <td>...</td>\n",
       "      <td>...</td>\n",
       "    </tr>\n",
       "    <tr>\n",
       "      <th>9995</th>\n",
       "      <td>9996</td>\n",
       "      <td>19.79</td>\n",
       "      <td>20.19%</td>\n",
       "      <td>0.0079</td>\n",
       "      <td>NaN</td>\n",
       "      <td>NaN</td>\n",
       "    </tr>\n",
       "    <tr>\n",
       "      <th>9996</th>\n",
       "      <td>9997</td>\n",
       "      <td>18.33</td>\n",
       "      <td>38.38%</td>\n",
       "      <td>0.0068</td>\n",
       "      <td>NaN</td>\n",
       "      <td>NaN</td>\n",
       "    </tr>\n",
       "    <tr>\n",
       "      <th>9997</th>\n",
       "      <td>9998</td>\n",
       "      <td>10.83</td>\n",
       "      <td>28.40%</td>\n",
       "      <td>0.0037</td>\n",
       "      <td>NaN</td>\n",
       "      <td>NaN</td>\n",
       "    </tr>\n",
       "    <tr>\n",
       "      <th>9998</th>\n",
       "      <td>9999</td>\n",
       "      <td>24.29</td>\n",
       "      <td>37.37%</td>\n",
       "      <td>0.0056</td>\n",
       "      <td>NaN</td>\n",
       "      <td>NaN</td>\n",
       "    </tr>\n",
       "    <tr>\n",
       "      <th>9999</th>\n",
       "      <td>10000</td>\n",
       "      <td>0.03</td>\n",
       "      <td>22.55%</td>\n",
       "      <td>0.0032</td>\n",
       "      <td>NaN</td>\n",
       "      <td>NaN</td>\n",
       "    </tr>\n",
       "  </tbody>\n",
       "</table>\n",
       "<p>10000 rows × 6 columns</p>\n",
       "</div>"
      ],
      "text/plain": [
       "      Customer No.  Exposure at Default (in lakh Rs.) Recovery (%)  \\\n",
       "0                1                              11.50       20.00%   \n",
       "1                2                               0.24        5.10%   \n",
       "2                3                               0.04       24.86%   \n",
       "3                4                              13.81        2.29%   \n",
       "4                5                              19.84        3.47%   \n",
       "...            ...                                ...          ...   \n",
       "9995          9996                              19.79       20.19%   \n",
       "9996          9997                              18.33       38.38%   \n",
       "9997          9998                              10.83       28.40%   \n",
       "9998          9999                              24.29       37.37%   \n",
       "9999         10000                               0.03       22.55%   \n",
       "\n",
       "      Probability of Default  Unnamed: 4  Unnamed: 5  \n",
       "0                     0.0070         NaN         NaN  \n",
       "1                     0.0033         NaN         NaN  \n",
       "2                     0.0022         NaN         NaN  \n",
       "3                     0.0066         NaN         NaN  \n",
       "4                     0.0020         NaN         NaN  \n",
       "...                      ...         ...         ...  \n",
       "9995                  0.0079         NaN         NaN  \n",
       "9996                  0.0068         NaN         NaN  \n",
       "9997                  0.0037         NaN         NaN  \n",
       "9998                  0.0056         NaN         NaN  \n",
       "9999                  0.0032         NaN         NaN  \n",
       "\n",
       "[10000 rows x 6 columns]"
      ]
     },
     "execution_count": 15,
     "metadata": {},
     "output_type": "execute_result"
    }
   ],
   "source": [
    "studentLoans"
   ]
  },
  {
   "cell_type": "code",
   "execution_count": 16,
   "metadata": {},
   "outputs": [
    {
     "data": {
      "text/plain": [
       "Customer No.                             0\n",
       "Exposure at Default (in lakh Rs.)        0\n",
       "Recovery (%)                             0\n",
       "Probability of Default                   0\n",
       "Unnamed: 4                           10000\n",
       "Unnamed: 5                           10000\n",
       "dtype: int64"
      ]
     },
     "execution_count": 16,
     "metadata": {},
     "output_type": "execute_result"
    }
   ],
   "source": [
    "studentLoans.isnull().sum()"
   ]
  },
  {
   "cell_type": "code",
   "execution_count": 17,
   "metadata": {},
   "outputs": [
    {
     "data": {
      "text/plain": [
       "Customer No.                           int64\n",
       "Exposure at Default (in lakh Rs.)    float64\n",
       "Recovery (%)                          object\n",
       "Probability of Default               float64\n",
       "Unnamed: 4                           float64\n",
       "Unnamed: 5                           float64\n",
       "dtype: object"
      ]
     },
     "execution_count": 17,
     "metadata": {},
     "output_type": "execute_result"
    }
   ],
   "source": [
    "studentLoans.dtypes"
   ]
  },
  {
   "cell_type": "code",
   "execution_count": 18,
   "metadata": {},
   "outputs": [
    {
     "data": {
      "text/plain": [
       "8.21%     10\n",
       "25.60%    10\n",
       "17.77%     8\n",
       "28.58%     8\n",
       "8.85%      8\n",
       "          ..\n",
       "11.47%     1\n",
       "10.74%     1\n",
       "8.04%      1\n",
       "32.47%     1\n",
       "34.51%     1\n",
       "Name: Recovery (%), Length: 3664, dtype: int64"
      ]
     },
     "execution_count": 18,
     "metadata": {},
     "output_type": "execute_result"
    }
   ],
   "source": [
    "studentLoans['Recovery (%)'].value_counts()"
   ]
  },
  {
   "cell_type": "code",
   "execution_count": 19,
   "metadata": {},
   "outputs": [],
   "source": [
    "studentLoans['Recovery (%)'] = studentLoans['Recovery (%)'].apply(lambda x: float(x[:-1]))"
   ]
  },
  {
   "cell_type": "code",
   "execution_count": 20,
   "metadata": {},
   "outputs": [
    {
     "data": {
      "text/plain": [
       "Customer No.                           int64\n",
       "Exposure at Default (in lakh Rs.)    float64\n",
       "Recovery (%)                         float64\n",
       "Probability of Default               float64\n",
       "Unnamed: 4                           float64\n",
       "Unnamed: 5                           float64\n",
       "dtype: object"
      ]
     },
     "execution_count": 20,
     "metadata": {},
     "output_type": "execute_result"
    }
   ],
   "source": [
    "studentLoans.dtypes"
   ]
  },
  {
   "cell_type": "code",
   "execution_count": 21,
   "metadata": {},
   "outputs": [],
   "source": [
    "studentLoans['Expected Loss'] = studentLoans['Probability of Default'] * studentLoans['Exposure at Default (in lakh Rs.)'] * (100 - studentLoans['Recovery (%)'])"
   ]
  },
  {
   "cell_type": "code",
   "execution_count": 22,
   "metadata": {},
   "outputs": [
    {
     "data": {
      "text/html": [
       "<div>\n",
       "<style scoped>\n",
       "    .dataframe tbody tr th:only-of-type {\n",
       "        vertical-align: middle;\n",
       "    }\n",
       "\n",
       "    .dataframe tbody tr th {\n",
       "        vertical-align: top;\n",
       "    }\n",
       "\n",
       "    .dataframe thead th {\n",
       "        text-align: right;\n",
       "    }\n",
       "</style>\n",
       "<table border=\"1\" class=\"dataframe\">\n",
       "  <thead>\n",
       "    <tr style=\"text-align: right;\">\n",
       "      <th></th>\n",
       "      <th>Customer No.</th>\n",
       "      <th>Exposure at Default (in lakh Rs.)</th>\n",
       "      <th>Recovery (%)</th>\n",
       "      <th>Probability of Default</th>\n",
       "      <th>Unnamed: 4</th>\n",
       "      <th>Unnamed: 5</th>\n",
       "      <th>Expected Loss</th>\n",
       "    </tr>\n",
       "  </thead>\n",
       "  <tbody>\n",
       "    <tr>\n",
       "      <th>0</th>\n",
       "      <td>1</td>\n",
       "      <td>11.50</td>\n",
       "      <td>20.00</td>\n",
       "      <td>0.0070</td>\n",
       "      <td>NaN</td>\n",
       "      <td>NaN</td>\n",
       "      <td>6.440000</td>\n",
       "    </tr>\n",
       "    <tr>\n",
       "      <th>1</th>\n",
       "      <td>2</td>\n",
       "      <td>0.24</td>\n",
       "      <td>5.10</td>\n",
       "      <td>0.0033</td>\n",
       "      <td>NaN</td>\n",
       "      <td>NaN</td>\n",
       "      <td>0.075161</td>\n",
       "    </tr>\n",
       "    <tr>\n",
       "      <th>2</th>\n",
       "      <td>3</td>\n",
       "      <td>0.04</td>\n",
       "      <td>24.86</td>\n",
       "      <td>0.0022</td>\n",
       "      <td>NaN</td>\n",
       "      <td>NaN</td>\n",
       "      <td>0.006612</td>\n",
       "    </tr>\n",
       "    <tr>\n",
       "      <th>3</th>\n",
       "      <td>4</td>\n",
       "      <td>13.81</td>\n",
       "      <td>2.29</td>\n",
       "      <td>0.0066</td>\n",
       "      <td>NaN</td>\n",
       "      <td>NaN</td>\n",
       "      <td>8.905876</td>\n",
       "    </tr>\n",
       "    <tr>\n",
       "      <th>4</th>\n",
       "      <td>5</td>\n",
       "      <td>19.84</td>\n",
       "      <td>3.47</td>\n",
       "      <td>0.0020</td>\n",
       "      <td>NaN</td>\n",
       "      <td>NaN</td>\n",
       "      <td>3.830310</td>\n",
       "    </tr>\n",
       "    <tr>\n",
       "      <th>...</th>\n",
       "      <td>...</td>\n",
       "      <td>...</td>\n",
       "      <td>...</td>\n",
       "      <td>...</td>\n",
       "      <td>...</td>\n",
       "      <td>...</td>\n",
       "      <td>...</td>\n",
       "    </tr>\n",
       "    <tr>\n",
       "      <th>9995</th>\n",
       "      <td>9996</td>\n",
       "      <td>19.79</td>\n",
       "      <td>20.19</td>\n",
       "      <td>0.0079</td>\n",
       "      <td>NaN</td>\n",
       "      <td>NaN</td>\n",
       "      <td>12.477575</td>\n",
       "    </tr>\n",
       "    <tr>\n",
       "      <th>9996</th>\n",
       "      <td>9997</td>\n",
       "      <td>18.33</td>\n",
       "      <td>38.38</td>\n",
       "      <td>0.0068</td>\n",
       "      <td>NaN</td>\n",
       "      <td>NaN</td>\n",
       "      <td>7.680563</td>\n",
       "    </tr>\n",
       "    <tr>\n",
       "      <th>9997</th>\n",
       "      <td>9998</td>\n",
       "      <td>10.83</td>\n",
       "      <td>28.40</td>\n",
       "      <td>0.0037</td>\n",
       "      <td>NaN</td>\n",
       "      <td>NaN</td>\n",
       "      <td>2.869084</td>\n",
       "    </tr>\n",
       "    <tr>\n",
       "      <th>9998</th>\n",
       "      <td>9999</td>\n",
       "      <td>24.29</td>\n",
       "      <td>37.37</td>\n",
       "      <td>0.0056</td>\n",
       "      <td>NaN</td>\n",
       "      <td>NaN</td>\n",
       "      <td>8.519183</td>\n",
       "    </tr>\n",
       "    <tr>\n",
       "      <th>9999</th>\n",
       "      <td>10000</td>\n",
       "      <td>0.03</td>\n",
       "      <td>22.55</td>\n",
       "      <td>0.0032</td>\n",
       "      <td>NaN</td>\n",
       "      <td>NaN</td>\n",
       "      <td>0.007435</td>\n",
       "    </tr>\n",
       "  </tbody>\n",
       "</table>\n",
       "<p>10000 rows × 7 columns</p>\n",
       "</div>"
      ],
      "text/plain": [
       "      Customer No.  Exposure at Default (in lakh Rs.)  Recovery (%)  \\\n",
       "0                1                              11.50         20.00   \n",
       "1                2                               0.24          5.10   \n",
       "2                3                               0.04         24.86   \n",
       "3                4                              13.81          2.29   \n",
       "4                5                              19.84          3.47   \n",
       "...            ...                                ...           ...   \n",
       "9995          9996                              19.79         20.19   \n",
       "9996          9997                              18.33         38.38   \n",
       "9997          9998                              10.83         28.40   \n",
       "9998          9999                              24.29         37.37   \n",
       "9999         10000                               0.03         22.55   \n",
       "\n",
       "      Probability of Default  Unnamed: 4  Unnamed: 5  Expected Loss  \n",
       "0                     0.0070         NaN         NaN       6.440000  \n",
       "1                     0.0033         NaN         NaN       0.075161  \n",
       "2                     0.0022         NaN         NaN       0.006612  \n",
       "3                     0.0066         NaN         NaN       8.905876  \n",
       "4                     0.0020         NaN         NaN       3.830310  \n",
       "...                      ...         ...         ...            ...  \n",
       "9995                  0.0079         NaN         NaN      12.477575  \n",
       "9996                  0.0068         NaN         NaN       7.680563  \n",
       "9997                  0.0037         NaN         NaN       2.869084  \n",
       "9998                  0.0056         NaN         NaN       8.519183  \n",
       "9999                  0.0032         NaN         NaN       0.007435  \n",
       "\n",
       "[10000 rows x 7 columns]"
      ]
     },
     "execution_count": 22,
     "metadata": {},
     "output_type": "execute_result"
    }
   ],
   "source": [
    "studentLoans"
   ]
  },
  {
   "cell_type": "code",
   "execution_count": 26,
   "metadata": {},
   "outputs": [
    {
     "data": {
      "text/plain": [
       "49339.131440619996"
      ]
     },
     "execution_count": 26,
     "metadata": {},
     "output_type": "execute_result"
    }
   ],
   "source": [
    "studentLoans['Expected Loss'].sum()"
   ]
  },
  {
   "cell_type": "code",
   "execution_count": null,
   "metadata": {},
   "outputs": [],
   "source": [
    "import matplotlib as plt"
   ]
  },
  {
   "cell_type": "code",
   "execution_count": null,
   "metadata": {},
   "outputs": [],
   "source": [
    "studentLoans['Expected Loss'].plot.barh()"
   ]
  },
  {
   "cell_type": "code",
   "execution_count": null,
   "metadata": {},
   "outputs": [],
   "source": []
  }
 ],
 "metadata": {
  "kernelspec": {
   "display_name": "Python 3",
   "language": "python",
   "name": "python3"
  },
  "language_info": {
   "codemirror_mode": {
    "name": "ipython",
    "version": 3
   },
   "file_extension": ".py",
   "mimetype": "text/x-python",
   "name": "python",
   "nbconvert_exporter": "python",
   "pygments_lexer": "ipython3",
   "version": "3.7.6"
  }
 },
 "nbformat": 4,
 "nbformat_minor": 4
}
