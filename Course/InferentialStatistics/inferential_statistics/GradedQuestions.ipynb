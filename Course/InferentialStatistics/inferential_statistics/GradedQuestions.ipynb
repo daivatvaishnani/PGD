{
 "cells": [
  {
   "cell_type": "code",
   "execution_count": 9,
   "metadata": {},
   "outputs": [],
   "source": [
    "import numpy as np\n",
    "import scipy.stats as st"
   ]
  },
  {
   "cell_type": "code",
   "execution_count": 10,
   "metadata": {},
   "outputs": [
    {
     "data": {
      "text/plain": [
       "array([5, 6, 5, 5, 5, 6, 5, 7, 8, 5])"
      ]
     },
     "execution_count": 10,
     "metadata": {},
     "output_type": "execute_result"
    }
   ],
   "source": [
    "seed=0\n",
    "n=10\n",
    "p=0.5\n",
    "\n",
    "np.random.seed(seed)\n",
    "s = np.random.binomial(n, p, 10)\n",
    "s"
   ]
  },
  {
   "cell_type": "code",
   "execution_count": 30,
   "metadata": {},
   "outputs": [
    {
     "name": "stdout",
     "output_type": "stream",
     "text": [
      "0.84\n",
      "2.6\n"
     ]
    }
   ],
   "source": [
    "m=100\n",
    "sd=10\n",
    "passing_marks = 90\n",
    "zscore = (passing_marks-m)/sd\n",
    "cdf = round((1-st.norm.cdf(zscore)),2)\n",
    "print(cdf)\n",
    "print(some)"
   ]
  },
  {
   "cell_type": "code",
   "execution_count": 37,
   "metadata": {},
   "outputs": [
    {
     "name": "stdout",
     "output_type": "stream",
     "text": [
      "0.8571\n"
     ]
    }
   ],
   "source": [
    "n = 15\n",
    "\n",
    "# The arrangements are considered distinct even if the relative order is same, that is why I took n! in denominator\n",
    "# p = 1 - p(they sit together)\n",
    "# p(they sit together) = n * 2! * (n - 2)! / (n!)\n",
    "# n      - ways to select points to place them both\n",
    "# 2!     - ways to arrange in between the two\n",
    "# (n-2)! - ways to arrange the remaining people\n",
    "# n! - total ways to arrange n people\n",
    "#\n",
    "# p(they sit together) = 2/(n-1)\n",
    "# \n",
    "\n",
    "\n",
    "p = round(1-2/(n-1),4)\n",
    "print(p)"
   ]
  },
  {
   "cell_type": "code",
   "execution_count": null,
   "metadata": {},
   "outputs": [],
   "source": []
  }
 ],
 "metadata": {
  "kernelspec": {
   "display_name": "Python 3",
   "language": "python",
   "name": "python3"
  },
  "language_info": {
   "codemirror_mode": {
    "name": "ipython",
    "version": 3
   },
   "file_extension": ".py",
   "mimetype": "text/x-python",
   "name": "python",
   "nbconvert_exporter": "python",
   "pygments_lexer": "ipython3",
   "version": "3.7.6"
  }
 },
 "nbformat": 4,
 "nbformat_minor": 4
}
