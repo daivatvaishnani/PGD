{
 "cells": [
  {
   "cell_type": "code",
   "execution_count": 66,
   "metadata": {},
   "outputs": [],
   "source": [
    "import pandas as pd"
   ]
  },
  {
   "cell_type": "code",
   "execution_count": 67,
   "metadata": {},
   "outputs": [
    {
     "data": {
      "text/plain": [
       "(33526, 17)"
      ]
     },
     "execution_count": 67,
     "metadata": {},
     "output_type": "execute_result"
    }
   ],
   "source": [
    "USA = pd.read_csv('USA.csv')\n",
    "USA.shape"
   ]
  },
  {
   "cell_type": "code",
   "execution_count": 68,
   "metadata": {},
   "outputs": [
    {
     "data": {
      "text/plain": [
       "(1916, 17)"
      ]
     },
     "execution_count": 68,
     "metadata": {},
     "output_type": "execute_result"
    }
   ],
   "source": [
    "GBR = pd.read_csv('GBR.csv')\n",
    "GBR.shape"
   ]
  },
  {
   "cell_type": "code",
   "execution_count": 69,
   "metadata": {},
   "outputs": [
    {
     "data": {
      "text/plain": [
       "(745, 17)"
      ]
     },
     "execution_count": 69,
     "metadata": {},
     "output_type": "execute_result"
    }
   ],
   "source": [
    "IND = pd.read_csv('IND.csv')\n",
    "IND.shape"
   ]
  },
  {
   "cell_type": "code",
   "execution_count": 70,
   "metadata": {},
   "outputs": [
    {
     "data": {
      "text/plain": [
       "392237581395.0"
      ]
     },
     "execution_count": 70,
     "metadata": {},
     "output_type": "execute_result"
    }
   ],
   "source": [
    "USA.raised_amount_usd.sum()"
   ]
  },
  {
   "cell_type": "code",
   "execution_count": 71,
   "metadata": {},
   "outputs": [
    {
     "data": {
      "text/plain": [
       "18924390319.0"
      ]
     },
     "execution_count": 71,
     "metadata": {},
     "output_type": "execute_result"
    }
   ],
   "source": [
    "GBR.raised_amount_usd.sum()"
   ]
  },
  {
   "cell_type": "code",
   "execution_count": 72,
   "metadata": {},
   "outputs": [
    {
     "data": {
      "text/plain": [
       "13537981235.0"
      ]
     },
     "execution_count": 72,
     "metadata": {},
     "output_type": "execute_result"
    }
   ],
   "source": [
    "IND.raised_amount_usd.sum()"
   ]
  },
  {
   "cell_type": "code",
   "execution_count": 73,
   "metadata": {},
   "outputs": [
    {
     "data": {
      "text/plain": [
       "main_sector\n",
       "Others                                     8243\n",
       "Cleantech / Semiconductors                 7849\n",
       "Social, Finance, Analytics, Advertising    5156\n",
       "News, Search and Messaging                 4301\n",
       "Health                                     3263\n",
       "Manufacturing                              2453\n",
       "Entertainment                              1756\n",
       "Automotive & Sports                         505\n",
       "Name: funding_round_permalink, dtype: int64"
      ]
     },
     "execution_count": 73,
     "metadata": {},
     "output_type": "execute_result"
    }
   ],
   "source": [
    "USAbySector = USA.groupby(\"main_sector\")\n",
    "USAbySector.funding_round_permalink.count().sort_values(ascending=False)"
   ]
  },
  {
   "cell_type": "code",
   "execution_count": 74,
   "metadata": {},
   "outputs": [
    {
     "data": {
      "text/plain": [
       "main_sector\n",
       "Others                                     507\n",
       "Cleantech / Semiconductors                 433\n",
       "Social, Finance, Analytics, Advertising    318\n",
       "News, Search and Messaging                 241\n",
       "Entertainment                              133\n",
       "Manufacturing                              122\n",
       "Health                                     118\n",
       "Automotive & Sports                         44\n",
       "Name: funding_round_permalink, dtype: int64"
      ]
     },
     "execution_count": 74,
     "metadata": {},
     "output_type": "execute_result"
    }
   ],
   "source": [
    "GBRbySector = GBR.groupby(\"main_sector\")\n",
    "GBRbySector.funding_round_permalink.count().sort_values(ascending=False)"
   ]
  },
  {
   "cell_type": "code",
   "execution_count": 75,
   "metadata": {},
   "outputs": [
    {
     "data": {
      "text/plain": [
       "main_sector\n",
       "Others                                     281\n",
       "News, Search and Messaging                 130\n",
       "Social, Finance, Analytics, Advertising     77\n",
       "Entertainment                               75\n",
       "Manufacturing                               55\n",
       "Cleantech / Semiconductors                  54\n",
       "Health                                      42\n",
       "Automotive & Sports                         31\n",
       "Name: funding_round_permalink, dtype: int64"
      ]
     },
     "execution_count": 75,
     "metadata": {},
     "output_type": "execute_result"
    }
   ],
   "source": [
    "INDbySector = IND.groupby(\"main_sector\")\n",
    "INDbySector.funding_round_permalink.count().sort_values(ascending=False)"
   ]
  },
  {
   "cell_type": "code",
   "execution_count": 76,
   "metadata": {},
   "outputs": [],
   "source": [
    "USAOthers = USA[USA.main_sector == 'Others']\n",
    "USACS = USA[USA.main_sector == 'Cleantech / Semiconductors']"
   ]
  },
  {
   "cell_type": "code",
   "execution_count": 77,
   "metadata": {},
   "outputs": [],
   "source": [
    "USOthersByName = USAOthers.groupby('name')\n",
    "USCSByName = USACS.groupby('name')"
   ]
  },
  {
   "cell_type": "code",
   "execution_count": 78,
   "metadata": {},
   "outputs": [
    {
     "data": {
      "text/plain": [
       "name\n",
       "SoFi            1.365200e+09\n",
       "Snapchat        1.165100e+09\n",
       "LivingSocial    8.182250e+08\n",
       "Facebook        6.152000e+08\n",
       "Zenefits        5.815000e+08\n",
       "                    ...     \n",
       "Secret Space    5.000000e+03\n",
       "Peers App       4.000000e+03\n",
       "RewardSnap      2.667000e+03\n",
       "Ozmott          2.250000e+03\n",
       "Promisec        0.000000e+00\n",
       "Name: raised_amount_usd, Length: 4632, dtype: float64"
      ]
     },
     "execution_count": 78,
     "metadata": {},
     "output_type": "execute_result"
    }
   ],
   "source": [
    "USOthersByName.raised_amount_usd.sum().sort_values(ascending = False)"
   ]
  },
  {
   "cell_type": "code",
   "execution_count": 79,
   "metadata": {},
   "outputs": [
    {
     "data": {
      "text/plain": [
       "name\n",
       "Freescale Semiconductor           1.760000e+10\n",
       "Juno Therapeutics                 1.159803e+09\n",
       "Better Place                      7.750000e+08\n",
       "BrightSource Energy               5.820000e+08\n",
       "GreatPoint Energy                 5.620000e+08\n",
       "                                      ...     \n",
       "Alternative Green Technologies    1.000000e+04\n",
       "Responsive Energy Group           1.000000e+04\n",
       "Sundance Diagnostics              5.513000e+03\n",
       "Canfield Medical Supply           2.750000e+03\n",
       "CosmosID                          0.000000e+00\n",
       "Name: raised_amount_usd, Length: 3775, dtype: float64"
      ]
     },
     "execution_count": 79,
     "metadata": {},
     "output_type": "execute_result"
    }
   ],
   "source": [
    "USCSByName.raised_amount_usd.sum().sort_values(ascending = False)"
   ]
  },
  {
   "cell_type": "code",
   "execution_count": 80,
   "metadata": {},
   "outputs": [],
   "source": [
    "GBROthers = GBR[GBR.main_sector == 'Others']\n",
    "GBRCS = GBR[GBR.main_sector == 'Cleantech / Semiconductors']"
   ]
  },
  {
   "cell_type": "code",
   "execution_count": 81,
   "metadata": {},
   "outputs": [],
   "source": [
    "GBROthersByName = GBROthers.groupby('name')\n",
    "GBRCSByName = GBRCS.groupby('name')"
   ]
  },
  {
   "cell_type": "code",
   "execution_count": 82,
   "metadata": {},
   "outputs": [
    {
     "data": {
      "text/plain": [
       "name\n",
       "OneWeb            500000000.0\n",
       "Farfetch          194500000.0\n",
       "Liquid Telecom    150000000.0\n",
       "picoChip          111500000.0\n",
       "NewVoiceMedia     111300000.0\n",
       "                     ...     \n",
       "skillsbite.com       120000.0\n",
       "Get Licensed         100000.0\n",
       "Uni2                  83751.0\n",
       "Socii                 54000.0\n",
       "Cloud 66              22414.0\n",
       "Name: raised_amount_usd, Length: 347, dtype: float64"
      ]
     },
     "execution_count": 82,
     "metadata": {},
     "output_type": "execute_result"
    }
   ],
   "source": [
    "GBROthersByName.raised_amount_usd.sum().sort_values(ascending = False)"
   ]
  },
  {
   "cell_type": "code",
   "execution_count": 83,
   "metadata": {},
   "outputs": [
    {
     "data": {
      "text/plain": [
       "name\n",
       "Immunocore                        320000000.0\n",
       "ReNeuron Group                    150859892.0\n",
       "Circassia                         144630999.0\n",
       "BioVex                            133314585.0\n",
       "Kymab                             120400000.0\n",
       "                                     ...     \n",
       "Hadrian Electrical Engineering       151525.0\n",
       "CellCap Technologies                 115819.0\n",
       "Critical Outcome Technologies         91516.0\n",
       "Sernova                               85077.0\n",
       "TopCat Research                       80606.0\n",
       "Name: raised_amount_usd, Length: 274, dtype: float64"
      ]
     },
     "execution_count": 83,
     "metadata": {},
     "output_type": "execute_result"
    }
   ],
   "source": [
    "GBRCSByName.raised_amount_usd.sum().sort_values(ascending=False)"
   ]
  },
  {
   "cell_type": "code",
   "execution_count": 84,
   "metadata": {},
   "outputs": [],
   "source": [
    "INDOthers = IND[IND.main_sector == 'Others']\n",
    "INDNS = IND[IND.main_sector == 'News, Search and Messaging']"
   ]
  },
  {
   "cell_type": "code",
   "execution_count": 85,
   "metadata": {},
   "outputs": [],
   "source": [
    "INDOthersByName = INDOthers.groupby('name')\n",
    "INDNSByName = INDNS.groupby('name')"
   ]
  },
  {
   "cell_type": "code",
   "execution_count": 86,
   "metadata": {},
   "outputs": [
    {
     "data": {
      "text/plain": [
       "name\n",
       "Flipkart                2.451000e+09\n",
       "Snapdeal                3.107000e+08\n",
       "Tata Teleservices       2.120000e+08\n",
       "Myntra                  1.587500e+08\n",
       "Pepperfry.com           1.280000e+08\n",
       "                            ...     \n",
       "Testbook.com            2.000000e+05\n",
       "Etown India Services    1.100000e+05\n",
       "Sudiksha                7.500000e+04\n",
       "Experifun               7.500000e+04\n",
       "Egully                  5.000000e+04\n",
       "Name: raised_amount_usd, Length: 181, dtype: float64"
      ]
     },
     "execution_count": 86,
     "metadata": {},
     "output_type": "execute_result"
    }
   ],
   "source": [
    "INDOthersByName.raised_amount_usd.sum().sort_values(ascending=False)"
   ]
  },
  {
   "cell_type": "code",
   "execution_count": 87,
   "metadata": {},
   "outputs": [
    {
     "data": {
      "text/plain": [
       "name\n",
       "Quikr                            346000000.0\n",
       "FreeCharge                       113000000.0\n",
       "Micromax Informatics              88000000.0\n",
       "hike                              86000000.0\n",
       "IndiaHomes                        75776000.0\n",
       "                                    ...     \n",
       "RailYatri                           486000.0\n",
       "SmartPocket                         240000.0\n",
       "Room n House                        166396.0\n",
       "YouTellMe                           100000.0\n",
       "Zify - Instant Carpooling App        40000.0\n",
       "Name: raised_amount_usd, Length: 87, dtype: float64"
      ]
     },
     "execution_count": 87,
     "metadata": {},
     "output_type": "execute_result"
    }
   ],
   "source": [
    "INDNSByName.raised_amount_usd.sum().sort_values(ascending=False)"
   ]
  },
  {
   "cell_type": "code",
   "execution_count": null,
   "metadata": {},
   "outputs": [],
   "source": []
  }
 ],
 "metadata": {
  "kernelspec": {
   "display_name": "Python 3",
   "language": "python",
   "name": "python3"
  },
  "language_info": {
   "codemirror_mode": {
    "name": "ipython",
    "version": 3
   },
   "file_extension": ".py",
   "mimetype": "text/x-python",
   "name": "python",
   "nbconvert_exporter": "python",
   "pygments_lexer": "ipython3",
   "version": "3.7.6"
  }
 },
 "nbformat": 4,
 "nbformat_minor": 4
}
