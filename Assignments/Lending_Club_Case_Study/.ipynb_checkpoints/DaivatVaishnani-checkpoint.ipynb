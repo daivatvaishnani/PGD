{
 "cells": [
  {
   "cell_type": "code",
   "execution_count": 73,
   "metadata": {},
   "outputs": [],
   "source": [
    "import numpy as np\n",
    "import pandas as pd\n",
    "import matplotlib.pyplot as plt\n",
    "import warnings\n",
    "from copy import copy\n",
    "\n",
    "warnings.filterwarnings('ignore')"
   ]
  },
  {
   "cell_type": "markdown",
   "metadata": {},
   "source": [
    "# Reading Data"
   ]
  },
  {
   "cell_type": "code",
   "execution_count": 74,
   "metadata": {},
   "outputs": [
    {
     "data": {
      "text/plain": [
       "(39717, 111)"
      ]
     },
     "execution_count": 74,
     "metadata": {},
     "output_type": "execute_result"
    }
   ],
   "source": [
    "loanDf = pd.read_csv('loan.csv')\n",
    "loanDf.shape"
   ]
  },
  {
   "cell_type": "code",
   "execution_count": 75,
   "metadata": {},
   "outputs": [
    {
     "data": {
      "text/html": [
       "<div>\n",
       "<style scoped>\n",
       "    .dataframe tbody tr th:only-of-type {\n",
       "        vertical-align: middle;\n",
       "    }\n",
       "\n",
       "    .dataframe tbody tr th {\n",
       "        vertical-align: top;\n",
       "    }\n",
       "\n",
       "    .dataframe thead th {\n",
       "        text-align: right;\n",
       "    }\n",
       "</style>\n",
       "<table border=\"1\" class=\"dataframe\">\n",
       "  <thead>\n",
       "    <tr style=\"text-align: right;\">\n",
       "      <th></th>\n",
       "      <th>id</th>\n",
       "      <th>member_id</th>\n",
       "      <th>loan_amnt</th>\n",
       "      <th>funded_amnt</th>\n",
       "      <th>funded_amnt_inv</th>\n",
       "      <th>term</th>\n",
       "      <th>int_rate</th>\n",
       "      <th>installment</th>\n",
       "      <th>grade</th>\n",
       "      <th>sub_grade</th>\n",
       "      <th>...</th>\n",
       "      <th>num_tl_90g_dpd_24m</th>\n",
       "      <th>num_tl_op_past_12m</th>\n",
       "      <th>pct_tl_nvr_dlq</th>\n",
       "      <th>percent_bc_gt_75</th>\n",
       "      <th>pub_rec_bankruptcies</th>\n",
       "      <th>tax_liens</th>\n",
       "      <th>tot_hi_cred_lim</th>\n",
       "      <th>total_bal_ex_mort</th>\n",
       "      <th>total_bc_limit</th>\n",
       "      <th>total_il_high_credit_limit</th>\n",
       "    </tr>\n",
       "  </thead>\n",
       "  <tbody>\n",
       "    <tr>\n",
       "      <th>0</th>\n",
       "      <td>1077501</td>\n",
       "      <td>1296599</td>\n",
       "      <td>5000</td>\n",
       "      <td>5000</td>\n",
       "      <td>4975.0</td>\n",
       "      <td>36 months</td>\n",
       "      <td>10.65%</td>\n",
       "      <td>162.87</td>\n",
       "      <td>B</td>\n",
       "      <td>B2</td>\n",
       "      <td>...</td>\n",
       "      <td>NaN</td>\n",
       "      <td>NaN</td>\n",
       "      <td>NaN</td>\n",
       "      <td>NaN</td>\n",
       "      <td>0.0</td>\n",
       "      <td>0.0</td>\n",
       "      <td>NaN</td>\n",
       "      <td>NaN</td>\n",
       "      <td>NaN</td>\n",
       "      <td>NaN</td>\n",
       "    </tr>\n",
       "    <tr>\n",
       "      <th>1</th>\n",
       "      <td>1077430</td>\n",
       "      <td>1314167</td>\n",
       "      <td>2500</td>\n",
       "      <td>2500</td>\n",
       "      <td>2500.0</td>\n",
       "      <td>60 months</td>\n",
       "      <td>15.27%</td>\n",
       "      <td>59.83</td>\n",
       "      <td>C</td>\n",
       "      <td>C4</td>\n",
       "      <td>...</td>\n",
       "      <td>NaN</td>\n",
       "      <td>NaN</td>\n",
       "      <td>NaN</td>\n",
       "      <td>NaN</td>\n",
       "      <td>0.0</td>\n",
       "      <td>0.0</td>\n",
       "      <td>NaN</td>\n",
       "      <td>NaN</td>\n",
       "      <td>NaN</td>\n",
       "      <td>NaN</td>\n",
       "    </tr>\n",
       "    <tr>\n",
       "      <th>2</th>\n",
       "      <td>1077175</td>\n",
       "      <td>1313524</td>\n",
       "      <td>2400</td>\n",
       "      <td>2400</td>\n",
       "      <td>2400.0</td>\n",
       "      <td>36 months</td>\n",
       "      <td>15.96%</td>\n",
       "      <td>84.33</td>\n",
       "      <td>C</td>\n",
       "      <td>C5</td>\n",
       "      <td>...</td>\n",
       "      <td>NaN</td>\n",
       "      <td>NaN</td>\n",
       "      <td>NaN</td>\n",
       "      <td>NaN</td>\n",
       "      <td>0.0</td>\n",
       "      <td>0.0</td>\n",
       "      <td>NaN</td>\n",
       "      <td>NaN</td>\n",
       "      <td>NaN</td>\n",
       "      <td>NaN</td>\n",
       "    </tr>\n",
       "    <tr>\n",
       "      <th>3</th>\n",
       "      <td>1076863</td>\n",
       "      <td>1277178</td>\n",
       "      <td>10000</td>\n",
       "      <td>10000</td>\n",
       "      <td>10000.0</td>\n",
       "      <td>36 months</td>\n",
       "      <td>13.49%</td>\n",
       "      <td>339.31</td>\n",
       "      <td>C</td>\n",
       "      <td>C1</td>\n",
       "      <td>...</td>\n",
       "      <td>NaN</td>\n",
       "      <td>NaN</td>\n",
       "      <td>NaN</td>\n",
       "      <td>NaN</td>\n",
       "      <td>0.0</td>\n",
       "      <td>0.0</td>\n",
       "      <td>NaN</td>\n",
       "      <td>NaN</td>\n",
       "      <td>NaN</td>\n",
       "      <td>NaN</td>\n",
       "    </tr>\n",
       "    <tr>\n",
       "      <th>4</th>\n",
       "      <td>1075358</td>\n",
       "      <td>1311748</td>\n",
       "      <td>3000</td>\n",
       "      <td>3000</td>\n",
       "      <td>3000.0</td>\n",
       "      <td>60 months</td>\n",
       "      <td>12.69%</td>\n",
       "      <td>67.79</td>\n",
       "      <td>B</td>\n",
       "      <td>B5</td>\n",
       "      <td>...</td>\n",
       "      <td>NaN</td>\n",
       "      <td>NaN</td>\n",
       "      <td>NaN</td>\n",
       "      <td>NaN</td>\n",
       "      <td>0.0</td>\n",
       "      <td>0.0</td>\n",
       "      <td>NaN</td>\n",
       "      <td>NaN</td>\n",
       "      <td>NaN</td>\n",
       "      <td>NaN</td>\n",
       "    </tr>\n",
       "  </tbody>\n",
       "</table>\n",
       "<p>5 rows × 111 columns</p>\n",
       "</div>"
      ],
      "text/plain": [
       "        id  member_id  loan_amnt  funded_amnt  funded_amnt_inv        term  \\\n",
       "0  1077501    1296599       5000         5000           4975.0   36 months   \n",
       "1  1077430    1314167       2500         2500           2500.0   60 months   \n",
       "2  1077175    1313524       2400         2400           2400.0   36 months   \n",
       "3  1076863    1277178      10000        10000          10000.0   36 months   \n",
       "4  1075358    1311748       3000         3000           3000.0   60 months   \n",
       "\n",
       "  int_rate  installment grade sub_grade  ... num_tl_90g_dpd_24m  \\\n",
       "0   10.65%       162.87     B        B2  ...                NaN   \n",
       "1   15.27%        59.83     C        C4  ...                NaN   \n",
       "2   15.96%        84.33     C        C5  ...                NaN   \n",
       "3   13.49%       339.31     C        C1  ...                NaN   \n",
       "4   12.69%        67.79     B        B5  ...                NaN   \n",
       "\n",
       "  num_tl_op_past_12m pct_tl_nvr_dlq  percent_bc_gt_75 pub_rec_bankruptcies  \\\n",
       "0                NaN            NaN               NaN                  0.0   \n",
       "1                NaN            NaN               NaN                  0.0   \n",
       "2                NaN            NaN               NaN                  0.0   \n",
       "3                NaN            NaN               NaN                  0.0   \n",
       "4                NaN            NaN               NaN                  0.0   \n",
       "\n",
       "  tax_liens tot_hi_cred_lim total_bal_ex_mort total_bc_limit  \\\n",
       "0       0.0             NaN               NaN            NaN   \n",
       "1       0.0             NaN               NaN            NaN   \n",
       "2       0.0             NaN               NaN            NaN   \n",
       "3       0.0             NaN               NaN            NaN   \n",
       "4       0.0             NaN               NaN            NaN   \n",
       "\n",
       "  total_il_high_credit_limit  \n",
       "0                        NaN  \n",
       "1                        NaN  \n",
       "2                        NaN  \n",
       "3                        NaN  \n",
       "4                        NaN  \n",
       "\n",
       "[5 rows x 111 columns]"
      ]
     },
     "execution_count": 75,
     "metadata": {},
     "output_type": "execute_result"
    }
   ],
   "source": [
    "loanDf.head()"
   ]
  },
  {
   "cell_type": "markdown",
   "metadata": {},
   "source": [
    "# Data Cleaning"
   ]
  },
  {
   "cell_type": "markdown",
   "metadata": {},
   "source": [
    "## Handling missing values"
   ]
  },
  {
   "cell_type": "markdown",
   "metadata": {},
   "source": [
    "### Dropping columns with significant amount of missing values"
   ]
  },
  {
   "cell_type": "markdown",
   "metadata": {},
   "source": [
    "Getting a snapshot of the missing values for each columns, we see that there are many columns where every record is missing <br>\n",
    "For example, **tot_hi_cred_lim, bc_mutil, bc_open_to_buy, avg_cur_bal, total_bc_limit, total_il_high_credit_limit, etc.** <br><br>\n",
    "So we will simply drop these columns as there is no way to even impute their values"
   ]
  },
  {
   "cell_type": "code",
   "execution_count": 76,
   "metadata": {},
   "outputs": [
    {
     "data": {
      "text/plain": [
       "total_il_high_credit_limit    39717\n",
       "mo_sin_old_rev_tl_op          39717\n",
       "bc_util                       39717\n",
       "bc_open_to_buy                39717\n",
       "avg_cur_bal                   39717\n",
       "                              ...  \n",
       "pub_rec                           0\n",
       "open_acc                          0\n",
       "inq_last_6mths                    0\n",
       "earliest_cr_line                  0\n",
       "id                                0\n",
       "Length: 111, dtype: int64"
      ]
     },
     "execution_count": 76,
     "metadata": {},
     "output_type": "execute_result"
    }
   ],
   "source": [
    "loanDf.isnull().sum().sort_values(ascending=False)"
   ]
  },
  {
   "cell_type": "code",
   "execution_count": 77,
   "metadata": {},
   "outputs": [
    {
     "data": {
      "text/plain": [
       "54"
      ]
     },
     "execution_count": 77,
     "metadata": {},
     "output_type": "execute_result"
    }
   ],
   "source": [
    "numRecords = loanDf.shape[0]\n",
    "columnsWithAllNullValues = loanDf.loc[:, loanDf.isnull().sum() == numRecords].columns\n",
    "len(columnsWithAllNullValues)"
   ]
  },
  {
   "cell_type": "markdown",
   "metadata": {},
   "source": [
    "There are **54 columns where every entry in the row is NaN**. Let's drop these columns"
   ]
  },
  {
   "cell_type": "code",
   "execution_count": 78,
   "metadata": {},
   "outputs": [],
   "source": [
    "loanDfWithDroppedColumns = loanDf.loc[:, loanDf.isnull().sum() != numRecords]\n",
    "coloumnsDropped = list(columnsWithAllNullValues)"
   ]
  },
  {
   "cell_type": "code",
   "execution_count": 79,
   "metadata": {},
   "outputs": [
    {
     "data": {
      "text/plain": [
       "next_pymnt_d              38577\n",
       "mths_since_last_record    36931\n",
       "mths_since_last_delinq    25682\n",
       "desc                      12940\n",
       "dtype: int64"
      ]
     },
     "execution_count": 79,
     "metadata": {},
     "output_type": "execute_result"
    }
   ],
   "source": [
    "loanDfWithDroppedColumns.loc[:, loanDfWithDroppedColumns.isnull().sum() > 0.3*numRecords].isnull().sum().sort_values(ascending=False)"
   ]
  },
  {
   "cell_type": "markdown",
   "metadata": {},
   "source": [
    "We see that there are still many columns which have significant amount of null values (30%). We will try to examine what they represent.\n",
    "\n",
    "**next_pymnt_d** <br>\n",
    "- The next scheduled payment date <br>\n",
    "- **97% missing values** <br>\n",
    "- These NaNs might be a technical error <br>\n",
    "- We will **drop this column**. <br>\n",
    "\n",
    "**mths_since_last_record** <br>\n",
    "- Months since last public record. <br>\n",
    "- **93% missing values** <br>\n",
    "- These NaNs might be due to public records not being updated <br>\n",
    "- We will **drop this column**. <br>\n",
    "\n",
    "**mths_since_last_delinq** <br>\n",
    "- Months since last delinquency <br>\n",
    "- **65% missing values** <br>\n",
    "- These NaNs might be because of no delinquency. This can be a prominent factor in determining the current financial state of the customer. No deliquency or greater the time-period since delinquency the better the financial state. <br>\n",
    "- We will **drop this column** because we don't know the exact reason for the missing values and we don't want any bias in our data-set <br>\n",
    "\n",
    "**desc** <br>\n",
    "- Description provided by customer <br>\n",
    "- **33% missing values** <br>\n",
    "- These NaNs might be because no description was provided by customer. We cant really rely on this as there is no authenticity to the description that the customer provides. <br>\n",
    "- We will **drop this column** as other complementary data is needed to make sense out of the information. <br>"
   ]
  },
  {
   "cell_type": "code",
   "execution_count": 80,
   "metadata": {},
   "outputs": [],
   "source": [
    "cols = ['next_pymnt_d', 'mths_since_last_record', 'mths_since_last_delinq', 'desc'];\n",
    "loanDfWithDroppedColumns.drop(columns=cols, inplace=True)\n",
    "coloumnsDropped = coloumnsDropped + cols"
   ]
  },
  {
   "cell_type": "markdown",
   "metadata": {},
   "source": [
    "Dropping a few more columns as they don't really contribute to the analysis.<br>\n",
    "**emp_title** - Doesn't have anything to do with defaults <br>\n",
    "**title** - Has many meaningless things written by customers and is covered within a broader field **purpose** <br>\n",
    "**tax_liens** - Every value is either 0 or NaN <br>\n",
    "**collections_12_mths_ex_med** - Every value is either 0 or NaN <br>\n",
    "**chargeoff_within_12_mths** - Every value is either 0 or NaN <br>\n",
    "**pymnt_plan** - Every value is 'n' <br>\n",
    "**url** - Doesn't really matter to the analysis <br>\n",
    "**initial_list_status** - Every value is 'f' <br>\n",
    "**policy_code** - Every value is 1 <br>\n",
    "**acc_now_delinq** - Every value is 0 <br>\n",
    "**delinq_amnt** - Every value is 0 <br>\n",
    "**id** - Doesn't matter to analysis <br>\n",
    "**member_id** - Doesn't matter to analysis <br>"
   ]
  },
  {
   "cell_type": "code",
   "execution_count": 81,
   "metadata": {},
   "outputs": [],
   "source": [
    "cols = ['emp_title', 'title', 'tax_liens', 'collections_12_mths_ex_med', 'chargeoff_within_12_mths',\n",
    "        'pymnt_plan', 'url', 'initial_list_status', 'policy_code', 'acc_now_delinq', 'delinq_amnt',\n",
    "        'id', 'member_id'];\n",
    "loanDfWithDroppedColumns.drop(columns=cols, inplace=True)\n",
    "coloumnsDropped = coloumnsDropped + cols"
   ]
  },
  {
   "cell_type": "markdown",
   "metadata": {},
   "source": [
    "**NOTE:** A very important thing to notice is that the information related to Customer behaviour variables will not be available when the customer applies for the loan. This information will start gettting recorded depending to the customer behaviour after he has recieved the loan. However, we need to make our risk analysis when the customer applies for the loan. So, it is advised to not make use of these Customer behavious variables in predicting defaults as ideally they won't be available at the time of assesment."
   ]
  },
  {
   "cell_type": "code",
   "execution_count": 82,
   "metadata": {},
   "outputs": [],
   "source": [
    "behaviouralVariables = ['last_pymnt_d', 'last_credit_pull_d', 'earliest_cr_line',\n",
    "                        'total_rec_int', 'total_rec_prncp', 'total_rec_late_fee',  \n",
    "                        'recoveries', 'collection_recovery_fee', 'last_pymnt_amnt']\n",
    "loanDfWithDroppedColumns.drop(columns=behaviouralVariables, inplace=True)\n",
    "coloumnsDropped = coloumnsDropped + behaviouralVariables"
   ]
  },
  {
   "cell_type": "code",
   "execution_count": 83,
   "metadata": {},
   "outputs": [
    {
     "data": {
      "text/plain": [
       "emp_length              1075\n",
       "pub_rec_bankruptcies     697\n",
       "revol_util                50\n",
       "purpose                    0\n",
       "funded_amnt                0\n",
       "funded_amnt_inv            0\n",
       "term                       0\n",
       "int_rate                   0\n",
       "installment                0\n",
       "grade                      0\n",
       "sub_grade                  0\n",
       "home_ownership             0\n",
       "annual_inc                 0\n",
       "verification_status        0\n",
       "issue_d                    0\n",
       "loan_status                0\n",
       "zip_code                   0\n",
       "application_type           0\n",
       "addr_state                 0\n",
       "dti                        0\n",
       "delinq_2yrs                0\n",
       "inq_last_6mths             0\n",
       "open_acc                   0\n",
       "pub_rec                    0\n",
       "revol_bal                  0\n",
       "total_acc                  0\n",
       "out_prncp                  0\n",
       "out_prncp_inv              0\n",
       "total_pymnt                0\n",
       "total_pymnt_inv            0\n",
       "loan_amnt                  0\n",
       "dtype: int64"
      ]
     },
     "execution_count": 83,
     "metadata": {},
     "output_type": "execute_result"
    }
   ],
   "source": [
    "loanDfWithDroppedColumns.isnull().sum().sort_values(ascending=False)"
   ]
  },
  {
   "cell_type": "markdown",
   "metadata": {},
   "source": [
    "### Dropping records which have missing values"
   ]
  },
  {
   "cell_type": "code",
   "execution_count": 84,
   "metadata": {},
   "outputs": [
    {
     "data": {
      "text/plain": [
       "(1819, 31)"
      ]
     },
     "execution_count": 84,
     "metadata": {},
     "output_type": "execute_result"
    }
   ],
   "source": [
    "cols = ['emp_length', 'pub_rec_bankruptcies', 'revol_util']\n",
    "dfWithCols = loanDfWithDroppedColumns.loc[:, cols]\n",
    "loanDfWithDroppedColumns.loc[dfWithCols.isnull().sum(axis=1) > 0, :].shape"
   ]
  },
  {
   "cell_type": "markdown",
   "metadata": {},
   "source": [
    "There are 1882 records that have missing values in either of the below columns: <br>\n",
    "**'emp_length', 'pub_rec_bankruptcies', 'last_pymnt_d', 'revol_util', 'last_credit_pull_d'** <br> <br>\n",
    "As the number of such records is not that significant (5%) we will remove these records"
   ]
  },
  {
   "cell_type": "code",
   "execution_count": 85,
   "metadata": {},
   "outputs": [
    {
     "data": {
      "text/html": [
       "<div>\n",
       "<style scoped>\n",
       "    .dataframe tbody tr th:only-of-type {\n",
       "        vertical-align: middle;\n",
       "    }\n",
       "\n",
       "    .dataframe tbody tr th {\n",
       "        vertical-align: top;\n",
       "    }\n",
       "\n",
       "    .dataframe thead th {\n",
       "        text-align: right;\n",
       "    }\n",
       "</style>\n",
       "<table border=\"1\" class=\"dataframe\">\n",
       "  <thead>\n",
       "    <tr style=\"text-align: right;\">\n",
       "      <th></th>\n",
       "      <th>loan_amnt</th>\n",
       "      <th>funded_amnt</th>\n",
       "      <th>funded_amnt_inv</th>\n",
       "      <th>term</th>\n",
       "      <th>int_rate</th>\n",
       "      <th>installment</th>\n",
       "      <th>grade</th>\n",
       "      <th>sub_grade</th>\n",
       "      <th>emp_length</th>\n",
       "      <th>home_ownership</th>\n",
       "      <th>...</th>\n",
       "      <th>pub_rec</th>\n",
       "      <th>revol_bal</th>\n",
       "      <th>revol_util</th>\n",
       "      <th>total_acc</th>\n",
       "      <th>out_prncp</th>\n",
       "      <th>out_prncp_inv</th>\n",
       "      <th>total_pymnt</th>\n",
       "      <th>total_pymnt_inv</th>\n",
       "      <th>application_type</th>\n",
       "      <th>pub_rec_bankruptcies</th>\n",
       "    </tr>\n",
       "  </thead>\n",
       "  <tbody>\n",
       "    <tr>\n",
       "      <th>0</th>\n",
       "      <td>5000</td>\n",
       "      <td>5000</td>\n",
       "      <td>4975.0</td>\n",
       "      <td>36 months</td>\n",
       "      <td>10.65%</td>\n",
       "      <td>162.87</td>\n",
       "      <td>B</td>\n",
       "      <td>B2</td>\n",
       "      <td>10+ years</td>\n",
       "      <td>RENT</td>\n",
       "      <td>...</td>\n",
       "      <td>0</td>\n",
       "      <td>13648</td>\n",
       "      <td>83.70%</td>\n",
       "      <td>9</td>\n",
       "      <td>0.00</td>\n",
       "      <td>0.00</td>\n",
       "      <td>5863.155187</td>\n",
       "      <td>5833.84</td>\n",
       "      <td>INDIVIDUAL</td>\n",
       "      <td>0.0</td>\n",
       "    </tr>\n",
       "    <tr>\n",
       "      <th>1</th>\n",
       "      <td>2500</td>\n",
       "      <td>2500</td>\n",
       "      <td>2500.0</td>\n",
       "      <td>60 months</td>\n",
       "      <td>15.27%</td>\n",
       "      <td>59.83</td>\n",
       "      <td>C</td>\n",
       "      <td>C4</td>\n",
       "      <td>&lt; 1 year</td>\n",
       "      <td>RENT</td>\n",
       "      <td>...</td>\n",
       "      <td>0</td>\n",
       "      <td>1687</td>\n",
       "      <td>9.40%</td>\n",
       "      <td>4</td>\n",
       "      <td>0.00</td>\n",
       "      <td>0.00</td>\n",
       "      <td>1008.710000</td>\n",
       "      <td>1008.71</td>\n",
       "      <td>INDIVIDUAL</td>\n",
       "      <td>0.0</td>\n",
       "    </tr>\n",
       "    <tr>\n",
       "      <th>2</th>\n",
       "      <td>2400</td>\n",
       "      <td>2400</td>\n",
       "      <td>2400.0</td>\n",
       "      <td>36 months</td>\n",
       "      <td>15.96%</td>\n",
       "      <td>84.33</td>\n",
       "      <td>C</td>\n",
       "      <td>C5</td>\n",
       "      <td>10+ years</td>\n",
       "      <td>RENT</td>\n",
       "      <td>...</td>\n",
       "      <td>0</td>\n",
       "      <td>2956</td>\n",
       "      <td>98.50%</td>\n",
       "      <td>10</td>\n",
       "      <td>0.00</td>\n",
       "      <td>0.00</td>\n",
       "      <td>3005.666844</td>\n",
       "      <td>3005.67</td>\n",
       "      <td>INDIVIDUAL</td>\n",
       "      <td>0.0</td>\n",
       "    </tr>\n",
       "    <tr>\n",
       "      <th>3</th>\n",
       "      <td>10000</td>\n",
       "      <td>10000</td>\n",
       "      <td>10000.0</td>\n",
       "      <td>36 months</td>\n",
       "      <td>13.49%</td>\n",
       "      <td>339.31</td>\n",
       "      <td>C</td>\n",
       "      <td>C1</td>\n",
       "      <td>10+ years</td>\n",
       "      <td>RENT</td>\n",
       "      <td>...</td>\n",
       "      <td>0</td>\n",
       "      <td>5598</td>\n",
       "      <td>21%</td>\n",
       "      <td>37</td>\n",
       "      <td>0.00</td>\n",
       "      <td>0.00</td>\n",
       "      <td>12231.890000</td>\n",
       "      <td>12231.89</td>\n",
       "      <td>INDIVIDUAL</td>\n",
       "      <td>0.0</td>\n",
       "    </tr>\n",
       "    <tr>\n",
       "      <th>4</th>\n",
       "      <td>3000</td>\n",
       "      <td>3000</td>\n",
       "      <td>3000.0</td>\n",
       "      <td>60 months</td>\n",
       "      <td>12.69%</td>\n",
       "      <td>67.79</td>\n",
       "      <td>B</td>\n",
       "      <td>B5</td>\n",
       "      <td>1 year</td>\n",
       "      <td>RENT</td>\n",
       "      <td>...</td>\n",
       "      <td>0</td>\n",
       "      <td>27783</td>\n",
       "      <td>53.90%</td>\n",
       "      <td>38</td>\n",
       "      <td>524.06</td>\n",
       "      <td>524.06</td>\n",
       "      <td>3513.330000</td>\n",
       "      <td>3513.33</td>\n",
       "      <td>INDIVIDUAL</td>\n",
       "      <td>0.0</td>\n",
       "    </tr>\n",
       "    <tr>\n",
       "      <th>...</th>\n",
       "      <td>...</td>\n",
       "      <td>...</td>\n",
       "      <td>...</td>\n",
       "      <td>...</td>\n",
       "      <td>...</td>\n",
       "      <td>...</td>\n",
       "      <td>...</td>\n",
       "      <td>...</td>\n",
       "      <td>...</td>\n",
       "      <td>...</td>\n",
       "      <td>...</td>\n",
       "      <td>...</td>\n",
       "      <td>...</td>\n",
       "      <td>...</td>\n",
       "      <td>...</td>\n",
       "      <td>...</td>\n",
       "      <td>...</td>\n",
       "      <td>...</td>\n",
       "      <td>...</td>\n",
       "      <td>...</td>\n",
       "      <td>...</td>\n",
       "    </tr>\n",
       "    <tr>\n",
       "      <th>39562</th>\n",
       "      <td>4800</td>\n",
       "      <td>4800</td>\n",
       "      <td>1100.0</td>\n",
       "      <td>36 months</td>\n",
       "      <td>10.28%</td>\n",
       "      <td>155.52</td>\n",
       "      <td>C</td>\n",
       "      <td>C1</td>\n",
       "      <td>1 year</td>\n",
       "      <td>RENT</td>\n",
       "      <td>...</td>\n",
       "      <td>1</td>\n",
       "      <td>5836</td>\n",
       "      <td>68.70%</td>\n",
       "      <td>12</td>\n",
       "      <td>0.00</td>\n",
       "      <td>0.00</td>\n",
       "      <td>5134.085288</td>\n",
       "      <td>1176.56</td>\n",
       "      <td>INDIVIDUAL</td>\n",
       "      <td>1.0</td>\n",
       "    </tr>\n",
       "    <tr>\n",
       "      <th>39573</th>\n",
       "      <td>7000</td>\n",
       "      <td>7000</td>\n",
       "      <td>1000.0</td>\n",
       "      <td>36 months</td>\n",
       "      <td>10.59%</td>\n",
       "      <td>227.82</td>\n",
       "      <td>C</td>\n",
       "      <td>C2</td>\n",
       "      <td>3 years</td>\n",
       "      <td>MORTGAGE</td>\n",
       "      <td>...</td>\n",
       "      <td>1</td>\n",
       "      <td>14930</td>\n",
       "      <td>79%</td>\n",
       "      <td>21</td>\n",
       "      <td>0.00</td>\n",
       "      <td>0.00</td>\n",
       "      <td>8174.021910</td>\n",
       "      <td>1167.72</td>\n",
       "      <td>INDIVIDUAL</td>\n",
       "      <td>1.0</td>\n",
       "    </tr>\n",
       "    <tr>\n",
       "      <th>39623</th>\n",
       "      <td>9000</td>\n",
       "      <td>9000</td>\n",
       "      <td>700.0</td>\n",
       "      <td>36 months</td>\n",
       "      <td>12.49%</td>\n",
       "      <td>301.04</td>\n",
       "      <td>D</td>\n",
       "      <td>D3</td>\n",
       "      <td>8 years</td>\n",
       "      <td>MORTGAGE</td>\n",
       "      <td>...</td>\n",
       "      <td>1</td>\n",
       "      <td>26233</td>\n",
       "      <td>62.90%</td>\n",
       "      <td>37</td>\n",
       "      <td>0.00</td>\n",
       "      <td>0.00</td>\n",
       "      <td>4015.960000</td>\n",
       "      <td>311.64</td>\n",
       "      <td>INDIVIDUAL</td>\n",
       "      <td>1.0</td>\n",
       "    </tr>\n",
       "    <tr>\n",
       "      <th>39666</th>\n",
       "      <td>15450</td>\n",
       "      <td>15450</td>\n",
       "      <td>600.0</td>\n",
       "      <td>36 months</td>\n",
       "      <td>11.22%</td>\n",
       "      <td>507.46</td>\n",
       "      <td>C</td>\n",
       "      <td>C4</td>\n",
       "      <td>2 years</td>\n",
       "      <td>MORTGAGE</td>\n",
       "      <td>...</td>\n",
       "      <td>1</td>\n",
       "      <td>6513</td>\n",
       "      <td>34.30%</td>\n",
       "      <td>29</td>\n",
       "      <td>0.00</td>\n",
       "      <td>0.00</td>\n",
       "      <td>11652.750000</td>\n",
       "      <td>451.73</td>\n",
       "      <td>INDIVIDUAL</td>\n",
       "      <td>1.0</td>\n",
       "    </tr>\n",
       "    <tr>\n",
       "      <th>39680</th>\n",
       "      <td>3000</td>\n",
       "      <td>3000</td>\n",
       "      <td>525.0</td>\n",
       "      <td>36 months</td>\n",
       "      <td>11.86%</td>\n",
       "      <td>99.44</td>\n",
       "      <td>D</td>\n",
       "      <td>D1</td>\n",
       "      <td>2 years</td>\n",
       "      <td>MORTGAGE</td>\n",
       "      <td>...</td>\n",
       "      <td>1</td>\n",
       "      <td>1064</td>\n",
       "      <td>70.90%</td>\n",
       "      <td>6</td>\n",
       "      <td>0.00</td>\n",
       "      <td>0.00</td>\n",
       "      <td>3579.662273</td>\n",
       "      <td>626.44</td>\n",
       "      <td>INDIVIDUAL</td>\n",
       "      <td>1.0</td>\n",
       "    </tr>\n",
       "  </tbody>\n",
       "</table>\n",
       "<p>37898 rows × 31 columns</p>\n",
       "</div>"
      ],
      "text/plain": [
       "       loan_amnt  funded_amnt  funded_amnt_inv        term int_rate  \\\n",
       "0           5000         5000           4975.0   36 months   10.65%   \n",
       "1           2500         2500           2500.0   60 months   15.27%   \n",
       "2           2400         2400           2400.0   36 months   15.96%   \n",
       "3          10000        10000          10000.0   36 months   13.49%   \n",
       "4           3000         3000           3000.0   60 months   12.69%   \n",
       "...          ...          ...              ...         ...      ...   \n",
       "39562       4800         4800           1100.0   36 months   10.28%   \n",
       "39573       7000         7000           1000.0   36 months   10.59%   \n",
       "39623       9000         9000            700.0   36 months   12.49%   \n",
       "39666      15450        15450            600.0   36 months   11.22%   \n",
       "39680       3000         3000            525.0   36 months   11.86%   \n",
       "\n",
       "       installment grade sub_grade emp_length home_ownership  ...  pub_rec  \\\n",
       "0           162.87     B        B2  10+ years           RENT  ...        0   \n",
       "1            59.83     C        C4   < 1 year           RENT  ...        0   \n",
       "2            84.33     C        C5  10+ years           RENT  ...        0   \n",
       "3           339.31     C        C1  10+ years           RENT  ...        0   \n",
       "4            67.79     B        B5     1 year           RENT  ...        0   \n",
       "...            ...   ...       ...        ...            ...  ...      ...   \n",
       "39562       155.52     C        C1     1 year           RENT  ...        1   \n",
       "39573       227.82     C        C2    3 years       MORTGAGE  ...        1   \n",
       "39623       301.04     D        D3    8 years       MORTGAGE  ...        1   \n",
       "39666       507.46     C        C4    2 years       MORTGAGE  ...        1   \n",
       "39680        99.44     D        D1    2 years       MORTGAGE  ...        1   \n",
       "\n",
       "      revol_bal revol_util total_acc out_prncp out_prncp_inv   total_pymnt  \\\n",
       "0         13648     83.70%         9      0.00          0.00   5863.155187   \n",
       "1          1687      9.40%         4      0.00          0.00   1008.710000   \n",
       "2          2956     98.50%        10      0.00          0.00   3005.666844   \n",
       "3          5598        21%        37      0.00          0.00  12231.890000   \n",
       "4         27783     53.90%        38    524.06        524.06   3513.330000   \n",
       "...         ...        ...       ...       ...           ...           ...   \n",
       "39562      5836     68.70%        12      0.00          0.00   5134.085288   \n",
       "39573     14930        79%        21      0.00          0.00   8174.021910   \n",
       "39623     26233     62.90%        37      0.00          0.00   4015.960000   \n",
       "39666      6513     34.30%        29      0.00          0.00  11652.750000   \n",
       "39680      1064     70.90%         6      0.00          0.00   3579.662273   \n",
       "\n",
       "       total_pymnt_inv  application_type  pub_rec_bankruptcies  \n",
       "0              5833.84        INDIVIDUAL                   0.0  \n",
       "1              1008.71        INDIVIDUAL                   0.0  \n",
       "2              3005.67        INDIVIDUAL                   0.0  \n",
       "3             12231.89        INDIVIDUAL                   0.0  \n",
       "4              3513.33        INDIVIDUAL                   0.0  \n",
       "...                ...               ...                   ...  \n",
       "39562          1176.56        INDIVIDUAL                   1.0  \n",
       "39573          1167.72        INDIVIDUAL                   1.0  \n",
       "39623           311.64        INDIVIDUAL                   1.0  \n",
       "39666           451.73        INDIVIDUAL                   1.0  \n",
       "39680           626.44        INDIVIDUAL                   1.0  \n",
       "\n",
       "[37898 rows x 31 columns]"
      ]
     },
     "execution_count": 85,
     "metadata": {},
     "output_type": "execute_result"
    }
   ],
   "source": [
    "loanDfWithoutMissingValues = loanDfWithDroppedColumns.loc[dfWithCols.isnull().sum(axis=1) == 0, :]\n",
    "loanDfWithoutMissingValues"
   ]
  },
  {
   "cell_type": "markdown",
   "metadata": {},
   "source": [
    "### Dropping records whose loan is currently on-going and stroring them in different Data-Frame"
   ]
  },
  {
   "cell_type": "markdown",
   "metadata": {},
   "source": [
    "We will move the records which don't belong to the subset of target variable values that we want to analyze. We just want to analyze what causes defaults and ongoing loans don't give us that idea."
   ]
  },
  {
   "cell_type": "code",
   "execution_count": 86,
   "metadata": {},
   "outputs": [
    {
     "data": {
      "text/html": [
       "<div>\n",
       "<style scoped>\n",
       "    .dataframe tbody tr th:only-of-type {\n",
       "        vertical-align: middle;\n",
       "    }\n",
       "\n",
       "    .dataframe tbody tr th {\n",
       "        vertical-align: top;\n",
       "    }\n",
       "\n",
       "    .dataframe thead th {\n",
       "        text-align: right;\n",
       "    }\n",
       "</style>\n",
       "<table border=\"1\" class=\"dataframe\">\n",
       "  <thead>\n",
       "    <tr style=\"text-align: right;\">\n",
       "      <th></th>\n",
       "      <th>loan_amnt</th>\n",
       "      <th>funded_amnt</th>\n",
       "      <th>funded_amnt_inv</th>\n",
       "      <th>term</th>\n",
       "      <th>int_rate</th>\n",
       "      <th>installment</th>\n",
       "      <th>grade</th>\n",
       "      <th>sub_grade</th>\n",
       "      <th>emp_length</th>\n",
       "      <th>home_ownership</th>\n",
       "      <th>...</th>\n",
       "      <th>pub_rec</th>\n",
       "      <th>revol_bal</th>\n",
       "      <th>revol_util</th>\n",
       "      <th>total_acc</th>\n",
       "      <th>out_prncp</th>\n",
       "      <th>out_prncp_inv</th>\n",
       "      <th>total_pymnt</th>\n",
       "      <th>total_pymnt_inv</th>\n",
       "      <th>application_type</th>\n",
       "      <th>pub_rec_bankruptcies</th>\n",
       "    </tr>\n",
       "  </thead>\n",
       "  <tbody>\n",
       "    <tr>\n",
       "      <th>0</th>\n",
       "      <td>5000</td>\n",
       "      <td>5000</td>\n",
       "      <td>4975.0</td>\n",
       "      <td>36 months</td>\n",
       "      <td>10.65%</td>\n",
       "      <td>162.87</td>\n",
       "      <td>B</td>\n",
       "      <td>B2</td>\n",
       "      <td>10+ years</td>\n",
       "      <td>RENT</td>\n",
       "      <td>...</td>\n",
       "      <td>0</td>\n",
       "      <td>13648</td>\n",
       "      <td>83.70%</td>\n",
       "      <td>9</td>\n",
       "      <td>0.0</td>\n",
       "      <td>0.0</td>\n",
       "      <td>5863.155187</td>\n",
       "      <td>5833.84</td>\n",
       "      <td>INDIVIDUAL</td>\n",
       "      <td>0.0</td>\n",
       "    </tr>\n",
       "    <tr>\n",
       "      <th>1</th>\n",
       "      <td>2500</td>\n",
       "      <td>2500</td>\n",
       "      <td>2500.0</td>\n",
       "      <td>60 months</td>\n",
       "      <td>15.27%</td>\n",
       "      <td>59.83</td>\n",
       "      <td>C</td>\n",
       "      <td>C4</td>\n",
       "      <td>&lt; 1 year</td>\n",
       "      <td>RENT</td>\n",
       "      <td>...</td>\n",
       "      <td>0</td>\n",
       "      <td>1687</td>\n",
       "      <td>9.40%</td>\n",
       "      <td>4</td>\n",
       "      <td>0.0</td>\n",
       "      <td>0.0</td>\n",
       "      <td>1008.710000</td>\n",
       "      <td>1008.71</td>\n",
       "      <td>INDIVIDUAL</td>\n",
       "      <td>0.0</td>\n",
       "    </tr>\n",
       "    <tr>\n",
       "      <th>2</th>\n",
       "      <td>2400</td>\n",
       "      <td>2400</td>\n",
       "      <td>2400.0</td>\n",
       "      <td>36 months</td>\n",
       "      <td>15.96%</td>\n",
       "      <td>84.33</td>\n",
       "      <td>C</td>\n",
       "      <td>C5</td>\n",
       "      <td>10+ years</td>\n",
       "      <td>RENT</td>\n",
       "      <td>...</td>\n",
       "      <td>0</td>\n",
       "      <td>2956</td>\n",
       "      <td>98.50%</td>\n",
       "      <td>10</td>\n",
       "      <td>0.0</td>\n",
       "      <td>0.0</td>\n",
       "      <td>3005.666844</td>\n",
       "      <td>3005.67</td>\n",
       "      <td>INDIVIDUAL</td>\n",
       "      <td>0.0</td>\n",
       "    </tr>\n",
       "    <tr>\n",
       "      <th>3</th>\n",
       "      <td>10000</td>\n",
       "      <td>10000</td>\n",
       "      <td>10000.0</td>\n",
       "      <td>36 months</td>\n",
       "      <td>13.49%</td>\n",
       "      <td>339.31</td>\n",
       "      <td>C</td>\n",
       "      <td>C1</td>\n",
       "      <td>10+ years</td>\n",
       "      <td>RENT</td>\n",
       "      <td>...</td>\n",
       "      <td>0</td>\n",
       "      <td>5598</td>\n",
       "      <td>21%</td>\n",
       "      <td>37</td>\n",
       "      <td>0.0</td>\n",
       "      <td>0.0</td>\n",
       "      <td>12231.890000</td>\n",
       "      <td>12231.89</td>\n",
       "      <td>INDIVIDUAL</td>\n",
       "      <td>0.0</td>\n",
       "    </tr>\n",
       "    <tr>\n",
       "      <th>5</th>\n",
       "      <td>5000</td>\n",
       "      <td>5000</td>\n",
       "      <td>5000.0</td>\n",
       "      <td>36 months</td>\n",
       "      <td>7.90%</td>\n",
       "      <td>156.46</td>\n",
       "      <td>A</td>\n",
       "      <td>A4</td>\n",
       "      <td>3 years</td>\n",
       "      <td>RENT</td>\n",
       "      <td>...</td>\n",
       "      <td>0</td>\n",
       "      <td>7963</td>\n",
       "      <td>28.30%</td>\n",
       "      <td>12</td>\n",
       "      <td>0.0</td>\n",
       "      <td>0.0</td>\n",
       "      <td>5632.210000</td>\n",
       "      <td>5632.21</td>\n",
       "      <td>INDIVIDUAL</td>\n",
       "      <td>0.0</td>\n",
       "    </tr>\n",
       "    <tr>\n",
       "      <th>...</th>\n",
       "      <td>...</td>\n",
       "      <td>...</td>\n",
       "      <td>...</td>\n",
       "      <td>...</td>\n",
       "      <td>...</td>\n",
       "      <td>...</td>\n",
       "      <td>...</td>\n",
       "      <td>...</td>\n",
       "      <td>...</td>\n",
       "      <td>...</td>\n",
       "      <td>...</td>\n",
       "      <td>...</td>\n",
       "      <td>...</td>\n",
       "      <td>...</td>\n",
       "      <td>...</td>\n",
       "      <td>...</td>\n",
       "      <td>...</td>\n",
       "      <td>...</td>\n",
       "      <td>...</td>\n",
       "      <td>...</td>\n",
       "      <td>...</td>\n",
       "    </tr>\n",
       "    <tr>\n",
       "      <th>39562</th>\n",
       "      <td>4800</td>\n",
       "      <td>4800</td>\n",
       "      <td>1100.0</td>\n",
       "      <td>36 months</td>\n",
       "      <td>10.28%</td>\n",
       "      <td>155.52</td>\n",
       "      <td>C</td>\n",
       "      <td>C1</td>\n",
       "      <td>1 year</td>\n",
       "      <td>RENT</td>\n",
       "      <td>...</td>\n",
       "      <td>1</td>\n",
       "      <td>5836</td>\n",
       "      <td>68.70%</td>\n",
       "      <td>12</td>\n",
       "      <td>0.0</td>\n",
       "      <td>0.0</td>\n",
       "      <td>5134.085288</td>\n",
       "      <td>1176.56</td>\n",
       "      <td>INDIVIDUAL</td>\n",
       "      <td>1.0</td>\n",
       "    </tr>\n",
       "    <tr>\n",
       "      <th>39573</th>\n",
       "      <td>7000</td>\n",
       "      <td>7000</td>\n",
       "      <td>1000.0</td>\n",
       "      <td>36 months</td>\n",
       "      <td>10.59%</td>\n",
       "      <td>227.82</td>\n",
       "      <td>C</td>\n",
       "      <td>C2</td>\n",
       "      <td>3 years</td>\n",
       "      <td>MORTGAGE</td>\n",
       "      <td>...</td>\n",
       "      <td>1</td>\n",
       "      <td>14930</td>\n",
       "      <td>79%</td>\n",
       "      <td>21</td>\n",
       "      <td>0.0</td>\n",
       "      <td>0.0</td>\n",
       "      <td>8174.021910</td>\n",
       "      <td>1167.72</td>\n",
       "      <td>INDIVIDUAL</td>\n",
       "      <td>1.0</td>\n",
       "    </tr>\n",
       "    <tr>\n",
       "      <th>39623</th>\n",
       "      <td>9000</td>\n",
       "      <td>9000</td>\n",
       "      <td>700.0</td>\n",
       "      <td>36 months</td>\n",
       "      <td>12.49%</td>\n",
       "      <td>301.04</td>\n",
       "      <td>D</td>\n",
       "      <td>D3</td>\n",
       "      <td>8 years</td>\n",
       "      <td>MORTGAGE</td>\n",
       "      <td>...</td>\n",
       "      <td>1</td>\n",
       "      <td>26233</td>\n",
       "      <td>62.90%</td>\n",
       "      <td>37</td>\n",
       "      <td>0.0</td>\n",
       "      <td>0.0</td>\n",
       "      <td>4015.960000</td>\n",
       "      <td>311.64</td>\n",
       "      <td>INDIVIDUAL</td>\n",
       "      <td>1.0</td>\n",
       "    </tr>\n",
       "    <tr>\n",
       "      <th>39666</th>\n",
       "      <td>15450</td>\n",
       "      <td>15450</td>\n",
       "      <td>600.0</td>\n",
       "      <td>36 months</td>\n",
       "      <td>11.22%</td>\n",
       "      <td>507.46</td>\n",
       "      <td>C</td>\n",
       "      <td>C4</td>\n",
       "      <td>2 years</td>\n",
       "      <td>MORTGAGE</td>\n",
       "      <td>...</td>\n",
       "      <td>1</td>\n",
       "      <td>6513</td>\n",
       "      <td>34.30%</td>\n",
       "      <td>29</td>\n",
       "      <td>0.0</td>\n",
       "      <td>0.0</td>\n",
       "      <td>11652.750000</td>\n",
       "      <td>451.73</td>\n",
       "      <td>INDIVIDUAL</td>\n",
       "      <td>1.0</td>\n",
       "    </tr>\n",
       "    <tr>\n",
       "      <th>39680</th>\n",
       "      <td>3000</td>\n",
       "      <td>3000</td>\n",
       "      <td>525.0</td>\n",
       "      <td>36 months</td>\n",
       "      <td>11.86%</td>\n",
       "      <td>99.44</td>\n",
       "      <td>D</td>\n",
       "      <td>D1</td>\n",
       "      <td>2 years</td>\n",
       "      <td>MORTGAGE</td>\n",
       "      <td>...</td>\n",
       "      <td>1</td>\n",
       "      <td>1064</td>\n",
       "      <td>70.90%</td>\n",
       "      <td>6</td>\n",
       "      <td>0.0</td>\n",
       "      <td>0.0</td>\n",
       "      <td>3579.662273</td>\n",
       "      <td>626.44</td>\n",
       "      <td>INDIVIDUAL</td>\n",
       "      <td>1.0</td>\n",
       "    </tr>\n",
       "  </tbody>\n",
       "</table>\n",
       "<p>36800 rows × 31 columns</p>\n",
       "</div>"
      ],
      "text/plain": [
       "       loan_amnt  funded_amnt  funded_amnt_inv        term int_rate  \\\n",
       "0           5000         5000           4975.0   36 months   10.65%   \n",
       "1           2500         2500           2500.0   60 months   15.27%   \n",
       "2           2400         2400           2400.0   36 months   15.96%   \n",
       "3          10000        10000          10000.0   36 months   13.49%   \n",
       "5           5000         5000           5000.0   36 months    7.90%   \n",
       "...          ...          ...              ...         ...      ...   \n",
       "39562       4800         4800           1100.0   36 months   10.28%   \n",
       "39573       7000         7000           1000.0   36 months   10.59%   \n",
       "39623       9000         9000            700.0   36 months   12.49%   \n",
       "39666      15450        15450            600.0   36 months   11.22%   \n",
       "39680       3000         3000            525.0   36 months   11.86%   \n",
       "\n",
       "       installment grade sub_grade emp_length home_ownership  ...  pub_rec  \\\n",
       "0           162.87     B        B2  10+ years           RENT  ...        0   \n",
       "1            59.83     C        C4   < 1 year           RENT  ...        0   \n",
       "2            84.33     C        C5  10+ years           RENT  ...        0   \n",
       "3           339.31     C        C1  10+ years           RENT  ...        0   \n",
       "5           156.46     A        A4    3 years           RENT  ...        0   \n",
       "...            ...   ...       ...        ...            ...  ...      ...   \n",
       "39562       155.52     C        C1     1 year           RENT  ...        1   \n",
       "39573       227.82     C        C2    3 years       MORTGAGE  ...        1   \n",
       "39623       301.04     D        D3    8 years       MORTGAGE  ...        1   \n",
       "39666       507.46     C        C4    2 years       MORTGAGE  ...        1   \n",
       "39680        99.44     D        D1    2 years       MORTGAGE  ...        1   \n",
       "\n",
       "      revol_bal revol_util total_acc out_prncp out_prncp_inv   total_pymnt  \\\n",
       "0         13648     83.70%         9       0.0           0.0   5863.155187   \n",
       "1          1687      9.40%         4       0.0           0.0   1008.710000   \n",
       "2          2956     98.50%        10       0.0           0.0   3005.666844   \n",
       "3          5598        21%        37       0.0           0.0  12231.890000   \n",
       "5          7963     28.30%        12       0.0           0.0   5632.210000   \n",
       "...         ...        ...       ...       ...           ...           ...   \n",
       "39562      5836     68.70%        12       0.0           0.0   5134.085288   \n",
       "39573     14930        79%        21       0.0           0.0   8174.021910   \n",
       "39623     26233     62.90%        37       0.0           0.0   4015.960000   \n",
       "39666      6513     34.30%        29       0.0           0.0  11652.750000   \n",
       "39680      1064     70.90%         6       0.0           0.0   3579.662273   \n",
       "\n",
       "       total_pymnt_inv  application_type  pub_rec_bankruptcies  \n",
       "0              5833.84        INDIVIDUAL                   0.0  \n",
       "1              1008.71        INDIVIDUAL                   0.0  \n",
       "2              3005.67        INDIVIDUAL                   0.0  \n",
       "3             12231.89        INDIVIDUAL                   0.0  \n",
       "5              5632.21        INDIVIDUAL                   0.0  \n",
       "...                ...               ...                   ...  \n",
       "39562          1176.56        INDIVIDUAL                   1.0  \n",
       "39573          1167.72        INDIVIDUAL                   1.0  \n",
       "39623           311.64        INDIVIDUAL                   1.0  \n",
       "39666           451.73        INDIVIDUAL                   1.0  \n",
       "39680           626.44        INDIVIDUAL                   1.0  \n",
       "\n",
       "[36800 rows x 31 columns]"
      ]
     },
     "execution_count": 86,
     "metadata": {},
     "output_type": "execute_result"
    }
   ],
   "source": [
    "ongoingLoansDf = loanDfWithoutMissingValues.loc[loanDfWithoutMissingValues['loan_status'] == 'Current', :]\n",
    "loanDfWithoutMissingValues = loanDfWithoutMissingValues.loc[loanDfWithoutMissingValues['loan_status'] != 'Current', :]\n",
    "loanDfWithoutMissingValues"
   ]
  },
  {
   "cell_type": "markdown",
   "metadata": {},
   "source": [
    "We are left with 36800 rows × 31 columns after handling missing values."
   ]
  },
  {
   "cell_type": "markdown",
   "metadata": {},
   "source": [
    "## Analyzing possible data discrepancies"
   ]
  },
  {
   "cell_type": "code",
   "execution_count": 143,
   "metadata": {},
   "outputs": [
    {
     "data": {
      "text/plain": [
       "(36800, 31)"
      ]
     },
     "execution_count": 143,
     "metadata": {},
     "output_type": "execute_result"
    }
   ],
   "source": [
    "loanDfCleaned = copy(loanDfWithoutMissingValues)\n",
    "loanDfCleaned.shape"
   ]
  },
  {
   "cell_type": "markdown",
   "metadata": {},
   "source": [
    "**emp_length** column has years appended to the values so we clean the column and convert it to a ordered categorical variable. <br>\n",
    "**term** column has months appended to the values so we clean the column and convert it to a ordered categorical variable. <br>\n",
    "**int_rate** and **revol_util** had values with '%' symbol in them. We converted them to float64 dtype applying lamda functions to those columns."
   ]
  },
  {
   "cell_type": "code",
   "execution_count": 144,
   "metadata": {},
   "outputs": [],
   "source": [
    "def cleanEmpLength(year):\n",
    "    parts = year.split(' ')\n",
    "    if len(parts) == 3:\n",
    "        return 0\n",
    "    if parts[0][-1] == '+':\n",
    "        return int(parts[0][:-1])\n",
    "    return int(parts[0])\n",
    "    \n",
    "loanDfCleaned['emp_length'] = loanDfCleaned['emp_length'].apply(lambda x : cleanEmpLength(x))"
   ]
  },
  {
   "cell_type": "code",
   "execution_count": 145,
   "metadata": {},
   "outputs": [],
   "source": [
    "loanDfCleaned['term'] = loanDfCleaned['term'].apply(lambda x : int(x.split(' ')[1]))"
   ]
  },
  {
   "cell_type": "code",
   "execution_count": 146,
   "metadata": {},
   "outputs": [],
   "source": [
    "loanDfCleaned['int_rate'] = loanDfCleaned['int_rate'].apply(lambda x : float(x[:-1]))\n",
    "loanDfCleaned['revol_util'] = loanDfCleaned['revol_util'].apply(lambda x : float(x[:-1]))"
   ]
  },
  {
   "cell_type": "markdown",
   "metadata": {},
   "source": [
    "Lets convert our target variable to a numerical variable so that it will be easy to compute the summary metrics on it. <br>\n",
    "Here we added another column **defaulted** to indicate wheather the loan default was defaulted (Charged Off) <br>"
   ]
  },
  {
   "cell_type": "code",
   "execution_count": 147,
   "metadata": {},
   "outputs": [
    {
     "data": {
      "text/plain": [
       "Fully Paid     31534\n",
       "Charged Off     5266\n",
       "Name: loan_status, dtype: int64"
      ]
     },
     "execution_count": 147,
     "metadata": {},
     "output_type": "execute_result"
    }
   ],
   "source": [
    "loanDfCleaned['loan_status'].value_counts()"
   ]
  },
  {
   "cell_type": "code",
   "execution_count": 148,
   "metadata": {},
   "outputs": [
    {
     "data": {
      "text/plain": [
       "0    31534\n",
       "1     5266\n",
       "Name: defaulted, dtype: int64"
      ]
     },
     "execution_count": 148,
     "metadata": {},
     "output_type": "execute_result"
    }
   ],
   "source": [
    "loanDfCleaned['defaulted'] = loanDfCleaned['loan_status'].apply(lambda x : int(x == 'Charged Off'))\n",
    "loanDfCleaned['defaulted'].value_counts()"
   ]
  },
  {
   "cell_type": "code",
   "execution_count": 149,
   "metadata": {},
   "outputs": [],
   "source": [
    "loanDfCleaned.to_csv('loanCleaned.csv', index=False)"
   ]
  },
  {
   "cell_type": "markdown",
   "metadata": {},
   "source": [
    "# Data Analysis"
   ]
  },
  {
   "cell_type": "markdown",
   "metadata": {},
   "source": [
    "Here we divide our columns into **target, date, categorical and numerical** variables."
   ]
  },
  {
   "cell_type": "code",
   "execution_count": 150,
   "metadata": {},
   "outputs": [],
   "source": [
    "targetVariables = ['loan_status', 'defaulted']\n",
    "\n",
    "dateVariables = ['issue_d']\n",
    "\n",
    "categoricalVariables = ['term', 'grade', 'sub_grade', 'emp_length', 'home_ownership', \n",
    "                        'verification_status', 'purpose', 'addr_state', 'zip_code', \n",
    "                        'delinq_2yrs', 'inq_last_6mths', 'pub_rec', 'pub_rec_bankruptcies', \n",
    "                        'application_type']\n",
    "\n",
    "numericalVariables = ['loan_amnt', 'funded_amnt', 'funded_amnt_inv', \n",
    "                      'int_rate', 'installment', 'annual_inc', 'dti', 'open_acc', \n",
    "                      'total_acc']"
   ]
  },
  {
   "cell_type": "markdown",
   "metadata": {},
   "source": [
    "**NOTE:** On seeing the correlation matrix among the numerical variable it was noticed that **'out_prncp' and 'out_prncp_inv'** dont have correlation with any of the other numerical variables. Hence we segregated them out in a different variable category (**uncorrelatedNumericalVariables**)."
   ]
  },
  {
   "cell_type": "markdown",
   "metadata": {},
   "source": [
    "Below is a snapshot of correlation matrix among different **numericalVariables**. This could give us an idea of what columns are strongly correlated and we can choose to pick one of them in our analysis."
   ]
  },
  {
   "cell_type": "code",
   "execution_count": 165,
   "metadata": {},
   "outputs": [
    {
     "data": {
      "image/png": "[encoded data removed]",
      "text/plain": [
       "<Figure size 720x720 with 2 Axes>"
      ]
     },
     "metadata": {
      "needs_background": "light"
     },
     "output_type": "display_data"
    }
   ],
   "source": [
    "df = loanDfCleaned.loc[:, numericalVariables]\n",
    "f = plt.figure(figsize=(10, 10))\n",
    "plt.matshow(df.corr(), fignum=f.number)\n",
    "plt.xticks(range(df.shape[1]), df.columns, fontsize=10, rotation=40)\n",
    "plt.yticks(range(df.shape[1]), df.columns, fontsize=10)\n",
    "cb = plt.colorbar()\n",
    "cb.ax.tick_params(labelsize=10)\n",
    "for (i, j), z in np.ndenumerate(df.corr()):\n",
    "    plt.text(j, i, '{:0.3f}'.format(z), ha='center', va='center')\n",
    "plt.savefig('Correlation_Matrix_numericalVariables.png')"
   ]
  },
  {
   "cell_type": "markdown",
   "metadata": {},
   "source": [
    "Here we can see that some numerical columns have a strong correlation so we choose to keep only some of them. <br>\n",
    "We will remove **installment**, **funded_amnt** and **funded_amnt_inv** as we have to analyse the risk on the basis of loan amount requested by user."
   ]
  },
  {
   "cell_type": "code",
   "execution_count": 152,
   "metadata": {},
   "outputs": [],
   "source": [
    "cols = ['installment', 'funded_amnt', 'funded_amnt_inv'];\n",
    "loanDfCleaned.drop(columns=cols, inplace=True)\n",
    "coloumnsDropped = coloumnsDropped + cols"
   ]
  },
  {
   "cell_type": "code",
   "execution_count": 153,
   "metadata": {},
   "outputs": [],
   "source": [
    "loanDfCleaned.to_csv('loanCleaned.csv', index=False)"
   ]
  },
  {
   "cell_type": "markdown",
   "metadata": {},
   "source": [
    "With that our final list of variables and their bifurcation looks like"
   ]
  },
  {
   "cell_type": "code",
   "execution_count": 155,
   "metadata": {},
   "outputs": [],
   "source": [
    "targetVariables = ['loan_status', 'defaulted']\n",
    "\n",
    "dateVariables = ['issue_d']\n",
    "\n",
    "categoricalVariables = ['term', 'grade', 'sub_grade', 'emp_length', 'home_ownership', \n",
    "                        'verification_status', 'purpose', 'addr_state', 'zip_code', \n",
    "                        'delinq_2yrs', 'inq_last_6mths', 'pub_rec', 'pub_rec_bankruptcies', \n",
    "                        'application_type']\n",
    "\n",
    "numericalVariables = ['loan_amnt', 'int_rate', 'annual_inc', 'dti', 'open_acc', 'total_acc']"
   ]
  },
  {
   "cell_type": "code",
   "execution_count": 173,
   "metadata": {},
   "outputs": [],
   "source": [
    "df = copy(loanDfCleaned)"
   ]
  },
  {
   "cell_type": "code",
   "execution_count": 180,
   "metadata": {},
   "outputs": [
    {
     "data": {
      "text/plain": [
       "B    30.296196\n",
       "A    25.864130\n",
       "C    20.309783\n",
       "D    13.184783\n",
       "E     6.994565\n",
       "F     2.551630\n",
       "G     0.798913\n",
       "Name: grade, dtype: float64"
      ]
     },
     "execution_count": 180,
     "metadata": {},
     "output_type": "execute_result"
    }
   ],
   "source": [
    "(df['grade'].value_counts() * 100 / len(df))"
   ]
  },
  {
   "cell_type": "markdown",
   "metadata": {},
   "source": [
    "## Default Rates for categorical variables"
   ]
  },
  {
   "cell_type": "code",
   "execution_count": 266,
   "metadata": {},
   "outputs": [],
   "source": [
    "# Get overall default rate\n",
    "def getOverallDefaultRate(Df):\n",
    "    return Df['defaulted'].mean()\n",
    "\n",
    "# Get plot for default rates\n",
    "def getDefaultRatePlot(Df, fields):\n",
    "    bygroup = Df.groupby(by=fields)\n",
    "    return bygroup['defaulted'].mean().plot.bar()\n",
    "\n",
    "# Get impact plot for default rates. This indicates how does a categorical variable impact default rate\n",
    "def getDefaultRateImpactPlot(Df, fields):\n",
    "    bygroup = Df.groupby(by=fields)\n",
    "    return (bygroup['defaulted'].mean() - getOverallDefaultRate(Df)).plot.bar()"
   ]
  },
  {
   "cell_type": "code",
   "execution_count": 267,
   "metadata": {},
   "outputs": [],
   "source": [
    "byGrade = df.groupby(by=['grade'])"
   ]
  },
  {
   "cell_type": "code",
   "execution_count": 268,
   "metadata": {},
   "outputs": [
    {
     "data": {
      "image/png": "[encoded data removed]",
      "text/plain": [
       "<Figure size 432x288 with 1 Axes>"
      ]
     },
     "metadata": {
      "needs_background": "light"
     },
     "output_type": "display_data"
    }
   ],
   "source": [
    "plot = getDefaultRatePlot(df, ['grade'])"
   ]
  },
  {
   "cell_type": "markdown",
   "metadata": {},
   "source": [
    "We can see that the default rates increase as the grade goes from A to G"
   ]
  },
  {
   "cell_type": "code",
   "execution_count": 269,
   "metadata": {},
   "outputs": [
    {
     "data": {
      "image/png": "[encoded data removed]",
      "text/plain": [
       "<Figure size 432x288 with 1 Axes>"
      ]
     },
     "metadata": {
      "needs_background": "light"
     },
     "output_type": "display_data"
    }
   ],
   "source": [
    "plot = getDefaultRateImpactPlot(df, ['grade'])"
   ]
  },
  {
   "cell_type": "markdown",
   "metadata": {},
   "source": [
    "We can see that grade A loans have negative 5% (decreases chances of defaults by 5%) impact on default-rate whereas grade G loans have positive 20% impact of defaults (increases the normal chances of defaults by 20%)"
   ]
  },
  {
   "cell_type": "code",
   "execution_count": 270,
   "metadata": {},
   "outputs": [
    {
     "data": {
      "image/png": "[encoded data removed]",
      "text/plain": [
       "<Figure size 432x288 with 1 Axes>"
      ]
     },
     "metadata": {
      "needs_background": "light"
     },
     "output_type": "display_data"
    }
   ],
   "source": [
    "plot = getDefaultRatePlot(df, ['grade', 'term'])"
   ]
  },
  {
   "cell_type": "markdown",
   "metadata": {},
   "source": [
    "Grade G loans with a term plan of 36 months have the highest default rate (40%)"
   ]
  },
  {
   "cell_type": "code",
   "execution_count": 271,
   "metadata": {},
   "outputs": [
    {
     "data": {
      "image/png": "[encoded data removed]",
      "text/plain": [
       "<Figure size 432x288 with 1 Axes>"
      ]
     },
     "metadata": {
      "needs_background": "light"
     },
     "output_type": "display_data"
    }
   ],
   "source": [
    "plot = getDefaultRateImpactPlot(df, ['grade', 'term'])"
   ]
  },
  {
   "cell_type": "markdown",
   "metadata": {},
   "source": [
    "Grade G loans with a term plan of 36 months increase the chances of defaults by 25%"
   ]
  },
  {
   "cell_type": "code",
   "execution_count": 272,
   "metadata": {},
   "outputs": [
    {
     "data": {
      "image/png": "[encoded data removed]",
      "text/plain": [
       "<Figure size 432x288 with 1 Axes>"
      ]
     },
     "metadata": {
      "needs_background": "light"
     },
     "output_type": "display_data"
    }
   ],
   "source": [
    "plot = getDefaultRateImpactPlot(df, ['home_ownership'])"
   ]
  },
  {
   "cell_type": "code",
   "execution_count": 273,
   "metadata": {},
   "outputs": [
    {
     "data": {
      "image/png": "[encoded data removed]",
      "text/plain": [
       "<Figure size 432x288 with 1 Axes>"
      ]
     },
     "metadata": {
      "needs_background": "light"
     },
     "output_type": "display_data"
    }
   ],
   "source": [
    "plot = getDefaultRateImpactPlot(df, ['verification_status'])"
   ]
  },
  {
   "cell_type": "code",
   "execution_count": 285,
   "metadata": {},
   "outputs": [
    {
     "data": {
      "image/png": "[encoded data removed]",
      "text/plain": [
       "<Figure size 432x288 with 1 Axes>"
      ]
     },
     "metadata": {
      "needs_background": "light"
     },
     "output_type": "display_data"
    }
   ],
   "source": [
    "plot = getDefaultRatePlot(df, ['purpose'])"
   ]
  },
  {
   "cell_type": "code",
   "execution_count": 274,
   "metadata": {},
   "outputs": [
    {
     "data": {
      "image/png": "[encoded data removed]",
      "text/plain": [
       "<Figure size 432x288 with 1 Axes>"
      ]
     },
     "metadata": {
      "needs_background": "light"
     },
     "output_type": "display_data"
    }
   ],
   "source": [
    "plot = getDefaultRateImpactPlot(df, ['purpose'])"
   ]
  },
  {
   "cell_type": "markdown",
   "metadata": {},
   "source": [
    "**Small business** loans seem to increase the default rates by 12.5%"
   ]
  },
  {
   "cell_type": "code",
   "execution_count": 286,
   "metadata": {},
   "outputs": [
    {
     "data": {
      "image/png": "[encoded data removed]",
      "text/plain": [
       "<Figure size 432x288 with 1 Axes>"
      ]
     },
     "metadata": {
      "needs_background": "light"
     },
     "output_type": "display_data"
    }
   ],
   "source": [
    "plot = getDefaultRatePlot(df, ['delinq_2yrs'])"
   ]
  },
  {
   "cell_type": "code",
   "execution_count": 287,
   "metadata": {},
   "outputs": [
    {
     "data": {
      "text/html": [
       "<div>\n",
       "<style scoped>\n",
       "    .dataframe tbody tr th:only-of-type {\n",
       "        vertical-align: middle;\n",
       "    }\n",
       "\n",
       "    .dataframe tbody tr th {\n",
       "        vertical-align: top;\n",
       "    }\n",
       "\n",
       "    .dataframe thead th {\n",
       "        text-align: right;\n",
       "    }\n",
       "</style>\n",
       "<table border=\"1\" class=\"dataframe\">\n",
       "  <thead>\n",
       "    <tr style=\"text-align: right;\">\n",
       "      <th></th>\n",
       "      <th>loan_amnt</th>\n",
       "      <th>term</th>\n",
       "      <th>int_rate</th>\n",
       "      <th>grade</th>\n",
       "      <th>sub_grade</th>\n",
       "      <th>emp_length</th>\n",
       "      <th>home_ownership</th>\n",
       "      <th>annual_inc</th>\n",
       "      <th>verification_status</th>\n",
       "      <th>issue_d</th>\n",
       "      <th>...</th>\n",
       "      <th>revol_bal</th>\n",
       "      <th>revol_util</th>\n",
       "      <th>total_acc</th>\n",
       "      <th>out_prncp</th>\n",
       "      <th>out_prncp_inv</th>\n",
       "      <th>total_pymnt</th>\n",
       "      <th>total_pymnt_inv</th>\n",
       "      <th>application_type</th>\n",
       "      <th>pub_rec_bankruptcies</th>\n",
       "      <th>defaulted</th>\n",
       "    </tr>\n",
       "  </thead>\n",
       "  <tbody>\n",
       "    <tr>\n",
       "      <th>15034</th>\n",
       "      <td>4200</td>\n",
       "      <td>36</td>\n",
       "      <td>15.62</td>\n",
       "      <td>D</td>\n",
       "      <td>D1</td>\n",
       "      <td>2</td>\n",
       "      <td>RENT</td>\n",
       "      <td>35000.0</td>\n",
       "      <td>Not Verified</td>\n",
       "      <td>May-11</td>\n",
       "      <td>...</td>\n",
       "      <td>478</td>\n",
       "      <td>79.7</td>\n",
       "      <td>19</td>\n",
       "      <td>0.0</td>\n",
       "      <td>0.0</td>\n",
       "      <td>4850.259801</td>\n",
       "      <td>4850.26</td>\n",
       "      <td>INDIVIDUAL</td>\n",
       "      <td>0.0</td>\n",
       "      <td>0</td>\n",
       "    </tr>\n",
       "    <tr>\n",
       "      <th>19488</th>\n",
       "      <td>12000</td>\n",
       "      <td>60</td>\n",
       "      <td>18.25</td>\n",
       "      <td>F</td>\n",
       "      <td>F1</td>\n",
       "      <td>3</td>\n",
       "      <td>RENT</td>\n",
       "      <td>67200.0</td>\n",
       "      <td>Source Verified</td>\n",
       "      <td>Feb-11</td>\n",
       "      <td>...</td>\n",
       "      <td>2409</td>\n",
       "      <td>65.1</td>\n",
       "      <td>17</td>\n",
       "      <td>0.0</td>\n",
       "      <td>0.0</td>\n",
       "      <td>3375.010000</td>\n",
       "      <td>2923.54</td>\n",
       "      <td>INDIVIDUAL</td>\n",
       "      <td>1.0</td>\n",
       "      <td>1</td>\n",
       "    </tr>\n",
       "  </tbody>\n",
       "</table>\n",
       "<p>2 rows × 29 columns</p>\n",
       "</div>"
      ],
      "text/plain": [
       "       loan_amnt  term  int_rate grade sub_grade  emp_length home_ownership  \\\n",
       "15034       4200    36     15.62     D        D1           2           RENT   \n",
       "19488      12000    60     18.25     F        F1           3           RENT   \n",
       "\n",
       "       annual_inc verification_status issue_d  ... revol_bal revol_util  \\\n",
       "15034     35000.0        Not Verified  May-11  ...       478       79.7   \n",
       "19488     67200.0     Source Verified  Feb-11  ...      2409       65.1   \n",
       "\n",
       "      total_acc out_prncp  out_prncp_inv  total_pymnt  total_pymnt_inv  \\\n",
       "15034        19       0.0            0.0  4850.259801          4850.26   \n",
       "19488        17       0.0            0.0  3375.010000          2923.54   \n",
       "\n",
       "       application_type  pub_rec_bankruptcies  defaulted  \n",
       "15034        INDIVIDUAL                   0.0          0  \n",
       "19488        INDIVIDUAL                   1.0          1  \n",
       "\n",
       "[2 rows x 29 columns]"
      ]
     },
     "execution_count": 287,
     "metadata": {},
     "output_type": "execute_result"
    }
   ],
   "source": [
    "df[df['delinq_2yrs'] == 8]"
   ]
  },
  {
   "cell_type": "markdown",
   "metadata": {},
   "source": [
    "Only two rows are present which is not enough data to conclude that 50% people defaults if they have 8 deliquencies in last 2 years"
   ]
  },
  {
   "cell_type": "code",
   "execution_count": 288,
   "metadata": {},
   "outputs": [
    {
     "data": {
      "image/png": "[encoded data removed]",
      "text/plain": [
       "<Figure size 432x288 with 1 Axes>"
      ]
     },
     "metadata": {
      "needs_background": "light"
     },
     "output_type": "display_data"
    }
   ],
   "source": [
    "plot = getDefaultRateImpactPlot(df, ['delinq_2yrs'])"
   ]
  },
  {
   "cell_type": "code",
   "execution_count": 277,
   "metadata": {},
   "outputs": [
    {
     "data": {
      "image/png": "[encoded data removed]",
      "text/plain": [
       "<Figure size 432x288 with 1 Axes>"
      ]
     },
     "metadata": {
      "needs_background": "light"
     },
     "output_type": "display_data"
    }
   ],
   "source": [
    "plot = getDefaultRateImpactPlot(df, ['inq_last_6mths'])"
   ]
  },
  {
   "cell_type": "code",
   "execution_count": 281,
   "metadata": {},
   "outputs": [
    {
     "data": {
      "image/png": "[encoded data removed]",
      "text/plain": [
       "<Figure size 432x288 with 1 Axes>"
      ]
     },
     "metadata": {
      "needs_background": "light"
     },
     "output_type": "display_data"
    }
   ],
   "source": [
    "plot = getDefaultRateImpactPlot(df, ['pub_rec'])"
   ]
  },
  {
   "cell_type": "code",
   "execution_count": 284,
   "metadata": {},
   "outputs": [
    {
     "data": {
      "image/png": "[encoded data removed]",
      "text/plain": [
       "<Figure size 432x288 with 1 Axes>"
      ]
     },
     "metadata": {
      "needs_background": "light"
     },
     "output_type": "display_data"
    }
   ],
   "source": [
    "plot = getDefaultRatePlot(df, ['pub_rec_bankruptcies'])"
   ]
  },
  {
   "cell_type": "code",
   "execution_count": 282,
   "metadata": {},
   "outputs": [
    {
     "data": {
      "image/png": "[encoded data removed]",
      "text/plain": [
       "<Figure size 432x288 with 1 Axes>"
      ]
     },
     "metadata": {
      "needs_background": "light"
     },
     "output_type": "display_data"
    }
   ],
   "source": [
    "plot = getDefaultRateImpactPlot(df, ['pub_rec_bankruptcies'])"
   ]
  },
  {
   "cell_type": "markdown",
   "metadata": {},
   "source": [
    "People having 2 or more publically bankrupcies records are 25% higher chance of default"
   ]
  }
 ],
 "metadata": {
  "kernelspec": {
   "display_name": "Python 3",
   "language": "python",
   "name": "python3"
  },
  "language_info": {
   "codemirror_mode": {
    "name": "ipython",
    "version": 3
   },
   "file_extension": ".py",
   "mimetype": "text/x-python",
   "name": "python",
   "nbconvert_exporter": "python",
   "pygments_lexer": "ipython3",
   "version": "3.7.6"
  }
 },
 "nbformat": 4,
 "nbformat_minor": 4
}
