{
 "cells": [
  {
   "cell_type": "markdown",
   "metadata": {},
   "source": [
    "## POS tagging using modified Viterbi"
   ]
  },
  {
   "cell_type": "markdown",
   "metadata": {},
   "source": [
    "### Data Preparation"
   ]
  },
  {
   "cell_type": "code",
   "execution_count": 290,
   "metadata": {},
   "outputs": [],
   "source": [
    "#Importing libraries\n",
    "import nltk, re, pprint\n",
    "import numpy as np\n",
    "import pandas as pd\n",
    "import requests\n",
    "import matplotlib.pyplot as plt\n",
    "import seaborn as sns\n",
    "import pprint, time\n",
    "import random\n",
    "from sklearn.model_selection import train_test_split\n",
    "from nltk.tokenize import word_tokenize"
   ]
  },
  {
   "cell_type": "code",
   "execution_count": 291,
   "metadata": {},
   "outputs": [],
   "source": [
    "# reading the Treebank tagged sentences\n",
    "wsj = list(nltk.corpus.treebank.tagged_sents(tagset='universal'))"
   ]
  },
  {
   "cell_type": "code",
   "execution_count": 292,
   "metadata": {},
   "outputs": [],
   "source": [
    "# Splitting into train and test\n",
    "random.seed(1234)\n",
    "train_set, test_set = train_test_split(wsj, test_size=0.05)"
   ]
  },
  {
   "cell_type": "code",
   "execution_count": 293,
   "metadata": {},
   "outputs": [],
   "source": [
    "# Getting list of tagged words\n",
    "train_tagged_words = [tup for sent in train_set for tup in sent]\n",
    "\n",
    "# tokens \n",
    "tokens = [pair[0] for pair in train_tagged_words]\n",
    "\n",
    "# vocabulary\n",
    "V = set(tokens)\n",
    "\n",
    "# number of tags\n",
    "T = set([pair[1] for pair in train_tagged_words])"
   ]
  },
  {
   "cell_type": "code",
   "execution_count": 294,
   "metadata": {},
   "outputs": [],
   "source": [
    "# computing P(w/t) and storing in T x V matrix\n",
    "t = len(T)\n",
    "v = len(V)\n",
    "w_given_t = np.zeros((t, v))"
   ]
  },
  {
   "cell_type": "code",
   "execution_count": 295,
   "metadata": {},
   "outputs": [],
   "source": [
    "# compute word given tag: Emission Probability\n",
    "def word_given_tag(word, tag, train_bag = train_tagged_words):\n",
    "    tag_list = [pair for pair in train_bag if pair[1]==tag]\n",
    "    count_tag = len(tag_list)\n",
    "    w_given_tag_list = [pair[0] for pair in tag_list if pair[0]==word]\n",
    "    count_w_given_tag = len(w_given_tag_list)\n",
    "    \n",
    "    return (count_w_given_tag, count_tag)"
   ]
  },
  {
   "cell_type": "code",
   "execution_count": 296,
   "metadata": {},
   "outputs": [],
   "source": [
    "# compute tag given tag: tag2(t2) given tag1 (t1), i.e. Transition Probability\n",
    "\n",
    "def t2_given_t1(t2, t1, train_bag = train_tagged_words):\n",
    "    tags = [pair[1] for pair in train_bag]\n",
    "    count_t1 = len([t for t in tags if t==t1])\n",
    "    count_t2_t1 = 0\n",
    "    for index in range(len(tags)-1):\n",
    "        if tags[index]==t1 and tags[index+1] == t2:\n",
    "            count_t2_t1 += 1\n",
    "    return (count_t2_t1, count_t1)"
   ]
  },
  {
   "cell_type": "code",
   "execution_count": 297,
   "metadata": {},
   "outputs": [],
   "source": [
    "# creating t x t transition matrix of tags\n",
    "# each column is t2, each row is t1\n",
    "# thus M(i, j) represents P(tj given ti)\n",
    "\n",
    "tags_matrix = np.zeros((len(T), len(T)), dtype='float32')\n",
    "for i, t1 in enumerate(list(T)):\n",
    "    for j, t2 in enumerate(list(T)): \n",
    "        tags_matrix[i, j] = t2_given_t1(t2, t1)[0]/t2_given_t1(t2, t1)[1]"
   ]
  },
  {
   "cell_type": "code",
   "execution_count": 298,
   "metadata": {},
   "outputs": [
    {
     "data": {
      "text/html": [
       "<div>\n",
       "<style scoped>\n",
       "    .dataframe tbody tr th:only-of-type {\n",
       "        vertical-align: middle;\n",
       "    }\n",
       "\n",
       "    .dataframe tbody tr th {\n",
       "        vertical-align: top;\n",
       "    }\n",
       "\n",
       "    .dataframe thead th {\n",
       "        text-align: right;\n",
       "    }\n",
       "</style>\n",
       "<table border=\"1\" class=\"dataframe\">\n",
       "  <thead>\n",
       "    <tr style=\"text-align: right;\">\n",
       "      <th></th>\n",
       "      <th>ADP</th>\n",
       "      <th>VERB</th>\n",
       "      <th>NOUN</th>\n",
       "      <th>ADV</th>\n",
       "      <th>CONJ</th>\n",
       "      <th>ADJ</th>\n",
       "      <th>X</th>\n",
       "      <th>DET</th>\n",
       "      <th>PRT</th>\n",
       "      <th>PRON</th>\n",
       "      <th>NUM</th>\n",
       "      <th>.</th>\n",
       "    </tr>\n",
       "  </thead>\n",
       "  <tbody>\n",
       "    <tr>\n",
       "      <th>ADP</th>\n",
       "      <td>0.016683</td>\n",
       "      <td>0.008127</td>\n",
       "      <td>0.324350</td>\n",
       "      <td>0.013474</td>\n",
       "      <td>0.000856</td>\n",
       "      <td>0.106085</td>\n",
       "      <td>0.034007</td>\n",
       "      <td>0.324243</td>\n",
       "      <td>0.001283</td>\n",
       "      <td>0.068977</td>\n",
       "      <td>0.062239</td>\n",
       "      <td>0.039675</td>\n",
       "    </tr>\n",
       "    <tr>\n",
       "      <th>VERB</th>\n",
       "      <td>0.091015</td>\n",
       "      <td>0.170265</td>\n",
       "      <td>0.109434</td>\n",
       "      <td>0.082037</td>\n",
       "      <td>0.005572</td>\n",
       "      <td>0.064701</td>\n",
       "      <td>0.218559</td>\n",
       "      <td>0.133349</td>\n",
       "      <td>0.031035</td>\n",
       "      <td>0.035369</td>\n",
       "      <td>0.023373</td>\n",
       "      <td>0.035291</td>\n",
       "    </tr>\n",
       "    <tr>\n",
       "      <th>NOUN</th>\n",
       "      <td>0.176034</td>\n",
       "      <td>0.147204</td>\n",
       "      <td>0.264560</td>\n",
       "      <td>0.016672</td>\n",
       "      <td>0.042443</td>\n",
       "      <td>0.012376</td>\n",
       "      <td>0.028684</td>\n",
       "      <td>0.013323</td>\n",
       "      <td>0.043572</td>\n",
       "      <td>0.004841</td>\n",
       "      <td>0.009610</td>\n",
       "      <td>0.240681</td>\n",
       "    </tr>\n",
       "    <tr>\n",
       "      <th>ADV</th>\n",
       "      <td>0.119284</td>\n",
       "      <td>0.340954</td>\n",
       "      <td>0.032472</td>\n",
       "      <td>0.080848</td>\n",
       "      <td>0.006958</td>\n",
       "      <td>0.130219</td>\n",
       "      <td>0.022863</td>\n",
       "      <td>0.070245</td>\n",
       "      <td>0.012591</td>\n",
       "      <td>0.014248</td>\n",
       "      <td>0.032472</td>\n",
       "      <td>0.136846</td>\n",
       "    </tr>\n",
       "    <tr>\n",
       "      <th>CONJ</th>\n",
       "      <td>0.053069</td>\n",
       "      <td>0.158283</td>\n",
       "      <td>0.345639</td>\n",
       "      <td>0.054453</td>\n",
       "      <td>0.000461</td>\n",
       "      <td>0.116751</td>\n",
       "      <td>0.008768</td>\n",
       "      <td>0.119059</td>\n",
       "      <td>0.005076</td>\n",
       "      <td>0.059991</td>\n",
       "      <td>0.042455</td>\n",
       "      <td>0.035994</td>\n",
       "    </tr>\n",
       "    <tr>\n",
       "      <th>ADJ</th>\n",
       "      <td>0.078393</td>\n",
       "      <td>0.012022</td>\n",
       "      <td>0.697958</td>\n",
       "      <td>0.004941</td>\n",
       "      <td>0.017457</td>\n",
       "      <td>0.065876</td>\n",
       "      <td>0.020751</td>\n",
       "      <td>0.005105</td>\n",
       "      <td>0.010705</td>\n",
       "      <td>0.000659</td>\n",
       "      <td>0.020751</td>\n",
       "      <td>0.065382</td>\n",
       "    </tr>\n",
       "    <tr>\n",
       "      <th>X</th>\n",
       "      <td>0.143243</td>\n",
       "      <td>0.206289</td>\n",
       "      <td>0.062569</td>\n",
       "      <td>0.025091</td>\n",
       "      <td>0.010799</td>\n",
       "      <td>0.016833</td>\n",
       "      <td>0.074480</td>\n",
       "      <td>0.055582</td>\n",
       "      <td>0.183421</td>\n",
       "      <td>0.054470</td>\n",
       "      <td>0.002859</td>\n",
       "      <td>0.164364</td>\n",
       "    </tr>\n",
       "    <tr>\n",
       "      <th>DET</th>\n",
       "      <td>0.009160</td>\n",
       "      <td>0.039532</td>\n",
       "      <td>0.639147</td>\n",
       "      <td>0.012414</td>\n",
       "      <td>0.000482</td>\n",
       "      <td>0.204652</td>\n",
       "      <td>0.046161</td>\n",
       "      <td>0.005544</td>\n",
       "      <td>0.000121</td>\n",
       "      <td>0.003495</td>\n",
       "      <td>0.022297</td>\n",
       "      <td>0.016994</td>\n",
       "    </tr>\n",
       "    <tr>\n",
       "      <th>PRT</th>\n",
       "      <td>0.021396</td>\n",
       "      <td>0.400922</td>\n",
       "      <td>0.246215</td>\n",
       "      <td>0.009875</td>\n",
       "      <td>0.002304</td>\n",
       "      <td>0.085253</td>\n",
       "      <td>0.013167</td>\n",
       "      <td>0.100724</td>\n",
       "      <td>0.001646</td>\n",
       "      <td>0.017446</td>\n",
       "      <td>0.057604</td>\n",
       "      <td>0.043450</td>\n",
       "    </tr>\n",
       "    <tr>\n",
       "      <th>PRON</th>\n",
       "      <td>0.022265</td>\n",
       "      <td>0.484069</td>\n",
       "      <td>0.206910</td>\n",
       "      <td>0.034549</td>\n",
       "      <td>0.005374</td>\n",
       "      <td>0.074088</td>\n",
       "      <td>0.095202</td>\n",
       "      <td>0.009981</td>\n",
       "      <td>0.012668</td>\n",
       "      <td>0.007678</td>\n",
       "      <td>0.007294</td>\n",
       "      <td>0.039923</td>\n",
       "    </tr>\n",
       "    <tr>\n",
       "      <th>NUM</th>\n",
       "      <td>0.033923</td>\n",
       "      <td>0.017699</td>\n",
       "      <td>0.355162</td>\n",
       "      <td>0.002950</td>\n",
       "      <td>0.012979</td>\n",
       "      <td>0.032743</td>\n",
       "      <td>0.210324</td>\n",
       "      <td>0.003540</td>\n",
       "      <td>0.027434</td>\n",
       "      <td>0.001475</td>\n",
       "      <td>0.183776</td>\n",
       "      <td>0.117994</td>\n",
       "    </tr>\n",
       "    <tr>\n",
       "      <th>.</th>\n",
       "      <td>0.090787</td>\n",
       "      <td>0.088464</td>\n",
       "      <td>0.221964</td>\n",
       "      <td>0.052810</td>\n",
       "      <td>0.058619</td>\n",
       "      <td>0.043875</td>\n",
       "      <td>0.026807</td>\n",
       "      <td>0.172907</td>\n",
       "      <td>0.002413</td>\n",
       "      <td>0.066393</td>\n",
       "      <td>0.080958</td>\n",
       "      <td>0.093915</td>\n",
       "    </tr>\n",
       "  </tbody>\n",
       "</table>\n",
       "</div>"
      ],
      "text/plain": [
       "           ADP      VERB      NOUN       ADV      CONJ       ADJ         X  \\\n",
       "ADP   0.016683  0.008127  0.324350  0.013474  0.000856  0.106085  0.034007   \n",
       "VERB  0.091015  0.170265  0.109434  0.082037  0.005572  0.064701  0.218559   \n",
       "NOUN  0.176034  0.147204  0.264560  0.016672  0.042443  0.012376  0.028684   \n",
       "ADV   0.119284  0.340954  0.032472  0.080848  0.006958  0.130219  0.022863   \n",
       "CONJ  0.053069  0.158283  0.345639  0.054453  0.000461  0.116751  0.008768   \n",
       "ADJ   0.078393  0.012022  0.697958  0.004941  0.017457  0.065876  0.020751   \n",
       "X     0.143243  0.206289  0.062569  0.025091  0.010799  0.016833  0.074480   \n",
       "DET   0.009160  0.039532  0.639147  0.012414  0.000482  0.204652  0.046161   \n",
       "PRT   0.021396  0.400922  0.246215  0.009875  0.002304  0.085253  0.013167   \n",
       "PRON  0.022265  0.484069  0.206910  0.034549  0.005374  0.074088  0.095202   \n",
       "NUM   0.033923  0.017699  0.355162  0.002950  0.012979  0.032743  0.210324   \n",
       ".     0.090787  0.088464  0.221964  0.052810  0.058619  0.043875  0.026807   \n",
       "\n",
       "           DET       PRT      PRON       NUM         .  \n",
       "ADP   0.324243  0.001283  0.068977  0.062239  0.039675  \n",
       "VERB  0.133349  0.031035  0.035369  0.023373  0.035291  \n",
       "NOUN  0.013323  0.043572  0.004841  0.009610  0.240681  \n",
       "ADV   0.070245  0.012591  0.014248  0.032472  0.136846  \n",
       "CONJ  0.119059  0.005076  0.059991  0.042455  0.035994  \n",
       "ADJ   0.005105  0.010705  0.000659  0.020751  0.065382  \n",
       "X     0.055582  0.183421  0.054470  0.002859  0.164364  \n",
       "DET   0.005544  0.000121  0.003495  0.022297  0.016994  \n",
       "PRT   0.100724  0.001646  0.017446  0.057604  0.043450  \n",
       "PRON  0.009981  0.012668  0.007678  0.007294  0.039923  \n",
       "NUM   0.003540  0.027434  0.001475  0.183776  0.117994  \n",
       ".     0.172907  0.002413  0.066393  0.080958  0.093915  "
      ]
     },
     "execution_count": 298,
     "metadata": {},
     "output_type": "execute_result"
    }
   ],
   "source": [
    "# convert the matrix to a df for better readability\n",
    "tags_df = pd.DataFrame(tags_matrix, columns = list(T), index=list(T))\n",
    "tags_df"
   ]
  },
  {
   "cell_type": "code",
   "execution_count": 299,
   "metadata": {},
   "outputs": [
    {
     "data": {
      "image/png": "[encoded data removed]",
      "text/plain": [
       "<Figure size 1296x864 with 2 Axes>"
      ]
     },
     "metadata": {
      "needs_background": "light"
     },
     "output_type": "display_data"
    }
   ],
   "source": [
    "# heatmap of tags matrix\n",
    "# T(i, j) means P(tag j given tag i)\n",
    "plt.figure(figsize=(18, 12))\n",
    "sns.heatmap(tags_df)\n",
    "plt.show()"
   ]
  },
  {
   "cell_type": "code",
   "execution_count": 300,
   "metadata": {},
   "outputs": [
    {
     "data": {
      "image/png": "[encoded data removed]",
      "text/plain": [
       "<Figure size 1296x864 with 2 Axes>"
      ]
     },
     "metadata": {
      "needs_background": "light"
     },
     "output_type": "display_data"
    }
   ],
   "source": [
    "# frequent tags\n",
    "# filter the df to get P(t2, t1) > 0.5\n",
    "tags_frequent = tags_df[tags_df>0.5]\n",
    "plt.figure(figsize=(18, 12))\n",
    "sns.heatmap(tags_frequent)\n",
    "plt.show()"
   ]
  },
  {
   "cell_type": "markdown",
   "metadata": {},
   "source": [
    "### Build the vanilla Viterbi based POS tagger"
   ]
  },
  {
   "cell_type": "code",
   "execution_count": 301,
   "metadata": {},
   "outputs": [],
   "source": [
    "# Viterbi Heuristic\n",
    "def Viterbi(words, train_bag = train_tagged_words):\n",
    "    state = []\n",
    "    T = list(set([pair[1] for pair in train_bag]))\n",
    "    \n",
    "    for key, word in enumerate(words):\n",
    "        #initialise list of probability column for a given observation\n",
    "        p = [] \n",
    "        for tag in T:\n",
    "            if key == 0:\n",
    "                transition_p = tags_df.loc['.', tag]\n",
    "            else:\n",
    "                transition_p = tags_df.loc[state[-1], tag]\n",
    "                \n",
    "            # compute emission and state probabilities\n",
    "            emission_p = word_given_tag(words[key], tag)[0]/word_given_tag(words[key], tag)[1]\n",
    "            state_probability = emission_p * transition_p    \n",
    "            p.append(state_probability)\n",
    "            \n",
    "        pmax = max(p)\n",
    "        # getting state for which probability is maximum\n",
    "        state_max = T[p.index(pmax)] \n",
    "        state.append(state_max)\n",
    "    return list(zip(words, state))"
   ]
  },
  {
   "cell_type": "code",
   "execution_count": 302,
   "metadata": {},
   "outputs": [
    {
     "data": {
      "text/plain": [
       "[[('When', 'ADV'),\n",
       "  ('their', 'PRON'),\n",
       "  ('changes', 'NOUN'),\n",
       "  ('are', 'VERB'),\n",
       "  ('completed', 'VERB'),\n",
       "  ('*-137', 'X'),\n",
       "  ('*T*-1', 'X'),\n",
       "  (',', '.'),\n",
       "  ('and', 'CONJ'),\n",
       "  ('after', 'ADP'),\n",
       "  ('they', 'PRON'),\n",
       "  ('have', 'VERB'),\n",
       "  ('worked', 'VERB'),\n",
       "  ('up', 'PRT'),\n",
       "  ('a', 'DET'),\n",
       "  ('sweat', 'NOUN'),\n",
       "  (',', '.'),\n",
       "  ('ringers', 'NOUN'),\n",
       "  ('often', 'ADV'),\n",
       "  ('skip', 'VERB'),\n",
       "  ('off', 'PRT'),\n",
       "  ('to', 'PRT'),\n",
       "  ('the', 'DET'),\n",
       "  ('local', 'ADJ'),\n",
       "  ('pub', 'NOUN'),\n",
       "  (',', '.'),\n",
       "  ('*-2', 'X'),\n",
       "  ('leaving', 'VERB'),\n",
       "  ('worship', 'NOUN'),\n",
       "  ('for', 'ADP'),\n",
       "  ('others', 'NOUN'),\n",
       "  ('below', 'ADV'),\n",
       "  ('.', '.')],\n",
       " [('The', 'DET'),\n",
       "  ('irony', 'NOUN'),\n",
       "  ('is', 'VERB'),\n",
       "  ('that', 'ADP'),\n",
       "  ('the', 'DET'),\n",
       "  ('attack', 'NOUN'),\n",
       "  ('commercial', 'NOUN'),\n",
       "  (',', '.'),\n",
       "  ('after', 'ADP'),\n",
       "  ('*-1', 'X'),\n",
       "  ('getting', 'VERB'),\n",
       "  ('a', 'DET'),\n",
       "  ('boost', 'NOUN'),\n",
       "  ('in', 'ADP'),\n",
       "  ('last', 'ADJ'),\n",
       "  ('year', 'NOUN'),\n",
       "  (\"'s\", 'PRT'),\n",
       "  ('presidential', 'ADJ'),\n",
       "  ('campaign', 'NOUN'),\n",
       "  (',', '.'),\n",
       "  ('has', 'VERB'),\n",
       "  ('come', 'VERB'),\n",
       "  ('of', 'ADP'),\n",
       "  ('age', 'NOUN'),\n",
       "  ('in', 'ADP'),\n",
       "  ('an', 'DET'),\n",
       "  ('off-off', 'ADJ'),\n",
       "  ('election', 'NOUN'),\n",
       "  ('year', 'NOUN'),\n",
       "  ('with', 'ADP'),\n",
       "  ('only', 'ADV'),\n",
       "  ('a', 'DET'),\n",
       "  ('few', 'ADJ'),\n",
       "  ('contests', 'NOUN'),\n",
       "  ('scattered', 'VERB'),\n",
       "  ('*', 'X'),\n",
       "  ('across', 'ADP'),\n",
       "  ('the', 'DET'),\n",
       "  ('country', 'NOUN'),\n",
       "  ('.', '.')],\n",
       " [('*', 'X'),\n",
       "  ('Related', 'VERB'),\n",
       "  ('to', 'PRT'),\n",
       "  ('that', 'DET'),\n",
       "  ('decision', 'NOUN'),\n",
       "  (',', '.'),\n",
       "  ('the', 'DET'),\n",
       "  ('company', 'NOUN'),\n",
       "  ('said', 'VERB'),\n",
       "  ('0', 'X'),\n",
       "  ('it', 'PRON'),\n",
       "  ('was', 'VERB'),\n",
       "  ('converting', 'VERB'),\n",
       "  ('its', 'PRON'),\n",
       "  ('Santa', 'NOUN'),\n",
       "  ('Clara', 'NOUN'),\n",
       "  (',', '.'),\n",
       "  ('Calif.', 'NOUN'),\n",
       "  (',', '.'),\n",
       "  ('factory', 'NOUN'),\n",
       "  ('to', 'PRT'),\n",
       "  ('a', 'DET'),\n",
       "  ('research', 'NOUN'),\n",
       "  ('and', 'CONJ'),\n",
       "  ('development', 'NOUN'),\n",
       "  ('facility', 'NOUN'),\n",
       "  ('.', '.')],\n",
       " [('Like', 'ADP'),\n",
       "  ('other', 'ADJ'),\n",
       "  ('forms', 'NOUN'),\n",
       "  ('of', 'ADP'),\n",
       "  ('arbitrage', 'NOUN'),\n",
       "  (',', '.'),\n",
       "  ('it', 'PRON'),\n",
       "  ('merely', 'ADV'),\n",
       "  ('seeks', 'VERB'),\n",
       "  ('*-1', 'X'),\n",
       "  ('to', 'PRT'),\n",
       "  ('take', 'VERB'),\n",
       "  ('advantage', 'NOUN'),\n",
       "  ('of', 'ADP'),\n",
       "  ('momentary', 'ADJ'),\n",
       "  ('discrepancies', 'NOUN'),\n",
       "  ('in', 'ADP'),\n",
       "  ('the', 'DET'),\n",
       "  ('price', 'NOUN'),\n",
       "  ('of', 'ADP'),\n",
       "  ('a', 'DET'),\n",
       "  ('single', 'ADJ'),\n",
       "  ('product', 'NOUN'),\n",
       "  ('--', '.'),\n",
       "  ('in', 'ADP'),\n",
       "  ('this', 'DET'),\n",
       "  ('case', 'NOUN'),\n",
       "  (',', '.'),\n",
       "  ('a', 'DET'),\n",
       "  ('basket', 'NOUN'),\n",
       "  ('of', 'ADP'),\n",
       "  ('stocks', 'NOUN'),\n",
       "  ('--', '.'),\n",
       "  ('in', 'ADP'),\n",
       "  ('different', 'ADJ'),\n",
       "  ('markets', 'NOUN'),\n",
       "  ('--', '.'),\n",
       "  ('in', 'ADP'),\n",
       "  ('this', 'DET'),\n",
       "  ('case', 'NOUN'),\n",
       "  ('the', 'DET'),\n",
       "  ('New', 'NOUN'),\n",
       "  ('York', 'NOUN'),\n",
       "  ('Stock', 'NOUN'),\n",
       "  ('Exchange', 'NOUN'),\n",
       "  ('and', 'CONJ'),\n",
       "  ('the', 'DET'),\n",
       "  ('Chicago', 'NOUN'),\n",
       "  ('futures', 'NOUN'),\n",
       "  ('markets', 'NOUN'),\n",
       "  ('.', '.')],\n",
       " [('Diaper', 'NOUN'),\n",
       "  ('shortages', 'NOUN'),\n",
       "  ('this', 'DET'),\n",
       "  ('summer', 'NOUN'),\n",
       "  ('limited', 'VERB'),\n",
       "  ('growth', 'NOUN'),\n",
       "  ('at', 'ADP'),\n",
       "  ('Stork', 'NOUN'),\n",
       "  ('Diaper', 'NOUN'),\n",
       "  ('Services', 'NOUN'),\n",
       "  (',', '.'),\n",
       "  ('Springfield', 'NOUN'),\n",
       "  (',', '.'),\n",
       "  ('Mass.', 'NOUN'),\n",
       "  (',', '.'),\n",
       "  ('where', 'ADV'),\n",
       "  ('business', 'NOUN'),\n",
       "  ('is', 'VERB'),\n",
       "  ('up', 'ADP'),\n",
       "  ('25', 'NUM'),\n",
       "  ('%', 'NOUN'),\n",
       "  ('in', 'ADP'),\n",
       "  ('*T*-1', 'X')]]"
      ]
     },
     "execution_count": 302,
     "metadata": {},
     "output_type": "execute_result"
    }
   ],
   "source": [
    "# Running on entire test dataset would take more than 3-4hrs. \n",
    "# Let's test our Viterbi algorithm on a few sample sentences of test dataset\n",
    "\n",
    "random.seed(4321)\n",
    "\n",
    "# choose random 5 sents\n",
    "rndom = [random.randint(1,len(test_set)) for x in range(5)]\n",
    "\n",
    "# list of sents\n",
    "test_run = [test_set[i] for i in rndom]\n",
    "\n",
    "# list of tagged words\n",
    "test_run_base = [tup for sent in test_run for tup in sent]\n",
    "\n",
    "# list of untagged words\n",
    "test_tagged_words = [tup[0] for sent in test_run for tup in sent]\n",
    "test_run"
   ]
  },
  {
   "cell_type": "code",
   "execution_count": 303,
   "metadata": {},
   "outputs": [],
   "source": [
    "# tagging the test sentences\n",
    "start = time.time()\n",
    "tagged_seq = Viterbi(test_tagged_words)\n",
    "end = time.time()\n",
    "difference = end-start"
   ]
  },
  {
   "cell_type": "code",
   "execution_count": 304,
   "metadata": {},
   "outputs": [
    {
     "data": {
      "text/plain": [
       "[('When', 'ADV'),\n",
       " ('their', 'PRON'),\n",
       " ('changes', 'NOUN'),\n",
       " ('are', 'VERB'),\n",
       " ('completed', 'VERB'),\n",
       " ('*-137', 'ADP'),\n",
       " ('*T*-1', 'X'),\n",
       " (',', '.'),\n",
       " ('and', 'CONJ'),\n",
       " ('after', 'ADP'),\n",
       " ('they', 'PRON'),\n",
       " ('have', 'VERB'),\n",
       " ('worked', 'VERB'),\n",
       " ('up', 'ADV'),\n",
       " ('a', 'DET'),\n",
       " ('sweat', 'ADP'),\n",
       " (',', '.'),\n",
       " ('ringers', 'NOUN'),\n",
       " ('often', 'ADV'),\n",
       " ('skip', 'ADP'),\n",
       " ('off', 'ADJ'),\n",
       " ('to', 'PRT'),\n",
       " ('the', 'DET'),\n",
       " ('local', 'ADJ'),\n",
       " ('pub', 'ADP'),\n",
       " (',', '.'),\n",
       " ('*-2', 'X'),\n",
       " ('leaving', 'VERB'),\n",
       " ('worship', 'NOUN'),\n",
       " ('for', 'ADP'),\n",
       " ('others', 'NOUN'),\n",
       " ('below', 'ADP'),\n",
       " ('.', '.'),\n",
       " ('The', 'DET'),\n",
       " ('irony', 'ADP'),\n",
       " ('is', 'VERB'),\n",
       " ('that', 'ADP'),\n",
       " ('the', 'DET'),\n",
       " ('attack', 'NOUN'),\n",
       " ('commercial', 'NOUN'),\n",
       " (',', '.'),\n",
       " ('after', 'ADP'),\n",
       " ('*-1', 'X'),\n",
       " ('getting', 'VERB'),\n",
       " ('a', 'DET'),\n",
       " ('boost', 'NOUN'),\n",
       " ('in', 'ADP'),\n",
       " ('last', 'ADJ'),\n",
       " ('year', 'NOUN'),\n",
       " (\"'s\", 'PRT'),\n",
       " ('presidential', 'ADJ'),\n",
       " ('campaign', 'NOUN'),\n",
       " (',', '.'),\n",
       " ('has', 'VERB'),\n",
       " ('come', 'VERB'),\n",
       " ('of', 'ADP'),\n",
       " ('age', 'NOUN'),\n",
       " ('in', 'ADP'),\n",
       " ('an', 'DET'),\n",
       " ('off-off', 'ADP'),\n",
       " ('election', 'NOUN'),\n",
       " ('year', 'NOUN'),\n",
       " ('with', 'ADP'),\n",
       " ('only', 'ADV'),\n",
       " ('a', 'DET'),\n",
       " ('few', 'ADJ'),\n",
       " ('contests', 'NOUN'),\n",
       " ('scattered', 'ADP'),\n",
       " ('*', 'X'),\n",
       " ('across', 'ADP'),\n",
       " ('the', 'DET'),\n",
       " ('country', 'NOUN'),\n",
       " ('.', '.'),\n",
       " ('*', 'X'),\n",
       " ('Related', 'ADP'),\n",
       " ('to', 'PRT'),\n",
       " ('that', 'DET'),\n",
       " ('decision', 'NOUN'),\n",
       " (',', '.'),\n",
       " ('the', 'DET'),\n",
       " ('company', 'NOUN'),\n",
       " ('said', 'VERB'),\n",
       " ('0', 'X'),\n",
       " ('it', 'PRON'),\n",
       " ('was', 'VERB'),\n",
       " ('converting', 'ADP'),\n",
       " ('its', 'PRON'),\n",
       " ('Santa', 'NOUN'),\n",
       " ('Clara', 'ADP'),\n",
       " (',', '.'),\n",
       " ('Calif.', 'NOUN'),\n",
       " (',', '.'),\n",
       " ('factory', 'NOUN'),\n",
       " ('to', 'PRT'),\n",
       " ('a', 'DET'),\n",
       " ('research', 'NOUN'),\n",
       " ('and', 'CONJ'),\n",
       " ('development', 'NOUN'),\n",
       " ('facility', 'NOUN'),\n",
       " ('.', '.'),\n",
       " ('Like', 'ADP'),\n",
       " ('other', 'ADJ'),\n",
       " ('forms', 'NOUN'),\n",
       " ('of', 'ADP'),\n",
       " ('arbitrage', 'NOUN'),\n",
       " (',', '.'),\n",
       " ('it', 'PRON'),\n",
       " ('merely', 'ADV'),\n",
       " ('seeks', 'VERB'),\n",
       " ('*-1', 'X'),\n",
       " ('to', 'PRT'),\n",
       " ('take', 'VERB'),\n",
       " ('advantage', 'NOUN'),\n",
       " ('of', 'ADP'),\n",
       " ('momentary', 'ADP'),\n",
       " ('discrepancies', 'NOUN'),\n",
       " ('in', 'ADP'),\n",
       " ('the', 'DET'),\n",
       " ('price', 'NOUN'),\n",
       " ('of', 'ADP'),\n",
       " ('a', 'DET'),\n",
       " ('single', 'ADJ'),\n",
       " ('product', 'NOUN'),\n",
       " ('--', '.'),\n",
       " ('in', 'ADP'),\n",
       " ('this', 'DET'),\n",
       " ('case', 'NOUN'),\n",
       " (',', '.'),\n",
       " ('a', 'DET'),\n",
       " ('basket', 'NOUN'),\n",
       " ('of', 'ADP'),\n",
       " ('stocks', 'NOUN'),\n",
       " ('--', '.'),\n",
       " ('in', 'ADP'),\n",
       " ('different', 'ADJ'),\n",
       " ('markets', 'NOUN'),\n",
       " ('--', '.'),\n",
       " ('in', 'ADP'),\n",
       " ('this', 'DET'),\n",
       " ('case', 'NOUN'),\n",
       " ('the', 'DET'),\n",
       " ('New', 'NOUN'),\n",
       " ('York', 'NOUN'),\n",
       " ('Stock', 'NOUN'),\n",
       " ('Exchange', 'NOUN'),\n",
       " ('and', 'CONJ'),\n",
       " ('the', 'DET'),\n",
       " ('Chicago', 'NOUN'),\n",
       " ('futures', 'NOUN'),\n",
       " ('markets', 'NOUN'),\n",
       " ('.', '.'),\n",
       " ('Diaper', 'NOUN'),\n",
       " ('shortages', 'ADP'),\n",
       " ('this', 'DET'),\n",
       " ('summer', 'NOUN'),\n",
       " ('limited', 'VERB'),\n",
       " ('growth', 'NOUN'),\n",
       " ('at', 'ADP'),\n",
       " ('Stork', 'ADP'),\n",
       " ('Diaper', 'NOUN'),\n",
       " ('Services', 'NOUN'),\n",
       " (',', '.'),\n",
       " ('Springfield', 'ADP'),\n",
       " (',', '.'),\n",
       " ('Mass.', 'NOUN'),\n",
       " (',', '.'),\n",
       " ('where', 'ADV'),\n",
       " ('business', 'NOUN'),\n",
       " ('is', 'VERB'),\n",
       " ('up', 'ADV'),\n",
       " ('25', 'NUM'),\n",
       " ('%', 'NOUN'),\n",
       " ('in', 'ADP'),\n",
       " ('*T*-1', 'X')]"
      ]
     },
     "execution_count": 304,
     "metadata": {},
     "output_type": "execute_result"
    }
   ],
   "source": [
    "tagged_seq"
   ]
  },
  {
   "cell_type": "code",
   "execution_count": 305,
   "metadata": {},
   "outputs": [
    {
     "name": "stdout",
     "output_type": "stream",
     "text": [
      "Accuracy:  0.896551724137931\n"
     ]
    }
   ],
   "source": [
    "# accuracy\n",
    "check = [i for i, j in zip(tagged_seq, test_run_base) if i == j] \n",
    "accuracy = len(check)/len(tagged_seq)\n",
    "print(\"Accuracy: \", accuracy)"
   ]
  },
  {
   "cell_type": "code",
   "execution_count": 306,
   "metadata": {},
   "outputs": [
    {
     "data": {
      "text/plain": [
       "[[('completed', 'VERB'), (('*-137', 'ADP'), ('*-137', 'X'))],\n",
       " [('worked', 'VERB'), (('up', 'ADV'), ('up', 'PRT'))],\n",
       " [('a', 'DET'), (('sweat', 'ADP'), ('sweat', 'NOUN'))],\n",
       " [('often', 'ADV'), (('skip', 'ADP'), ('skip', 'VERB'))],\n",
       " [('skip', 'VERB'), (('off', 'ADJ'), ('off', 'PRT'))],\n",
       " [('local', 'ADJ'), (('pub', 'ADP'), ('pub', 'NOUN'))],\n",
       " [('others', 'NOUN'), (('below', 'ADP'), ('below', 'ADV'))],\n",
       " [('The', 'DET'), (('irony', 'ADP'), ('irony', 'NOUN'))],\n",
       " [('an', 'DET'), (('off-off', 'ADP'), ('off-off', 'ADJ'))],\n",
       " [('contests', 'NOUN'), (('scattered', 'ADP'), ('scattered', 'VERB'))],\n",
       " [('*', 'X'), (('Related', 'ADP'), ('Related', 'VERB'))],\n",
       " [('was', 'VERB'), (('converting', 'ADP'), ('converting', 'VERB'))],\n",
       " [('Santa', 'NOUN'), (('Clara', 'ADP'), ('Clara', 'NOUN'))],\n",
       " [('of', 'ADP'), (('momentary', 'ADP'), ('momentary', 'ADJ'))],\n",
       " [('Diaper', 'NOUN'), (('shortages', 'ADP'), ('shortages', 'NOUN'))],\n",
       " [('at', 'ADP'), (('Stork', 'ADP'), ('Stork', 'NOUN'))],\n",
       " [(',', '.'), (('Springfield', 'ADP'), ('Springfield', 'NOUN'))],\n",
       " [('is', 'VERB'), (('up', 'ADV'), ('up', 'ADP'))]]"
      ]
     },
     "execution_count": 306,
     "metadata": {},
     "output_type": "execute_result"
    }
   ],
   "source": [
    "incorrect_tagged_cases = [[test_run_base[i-1],j] for i, j in enumerate(zip(tagged_seq, test_run_base)) if j[0]!=j[1]]\n",
    "incorrect_tagged_cases"
   ]
  },
  {
   "cell_type": "markdown",
   "metadata": {},
   "source": [
    "### Solve the problem of unknown words"
   ]
  },
  {
   "cell_type": "markdown",
   "metadata": {},
   "source": [
    "We will build a sequential tagger consisting of multiple chained taggers to overcome this problem"
   ]
  },
  {
   "cell_type": "code",
   "execution_count": 307,
   "metadata": {},
   "outputs": [
    {
     "name": "stdout",
     "output_type": "stream",
     "text": [
      "Sequential Tagger accuracy:  0.949763228330245\n"
     ]
    }
   ],
   "source": [
    "# specify patterns for tagging\n",
    "# example from the NLTK book\n",
    "patterns = [\n",
    "    (r'.*ing$', 'VERB'),              # gerund\n",
    "    (r'.*ed$', 'VERB'),               # past tense\n",
    "    (r'.*es$', 'VERB'),               # 3rd singular present\n",
    "    (r'.*ould$', 'X'),                # modals\n",
    "    (r'.*\\'s$', 'NOUN'),              # possessive nouns\n",
    "    (r'.*s$', 'NOUN'),                # plural nouns\n",
    "    (r'^-?[0-9]+(.[0-9]+)?$', 'NUM'), # cardinal numbers\n",
    "    (r'.*', 'NOUN')                   # nouns\n",
    "]\n",
    "\n",
    "# Lexicon (or unigram tagger)\n",
    "unigram_tagger = nltk.UnigramTagger(train_set)\n",
    "accuracy_unigram_tagger = unigram_tagger.evaluate(test_set)\n",
    "\n",
    "# rule based tagger\n",
    "rule_based_tagger = nltk.RegexpTagger(patterns)\n",
    "\n",
    "# lexicon backed up by the rule-based tagger\n",
    "lexicon_tagger = nltk.UnigramTagger(train_set, backoff = rule_based_tagger)\n",
    "\n",
    "# Bigram tagger\n",
    "bigram_tagger = nltk.BigramTagger(train_set,backoff=lexicon_tagger)\n",
    "\n",
    "# Trigram tagger\n",
    "trigram_tagger = nltk.TrigramTagger(train_set, backoff=bigram_tagger)\n",
    "accuracy_trigram_tagger = trigram_tagger.evaluate(test_set)\n",
    "print(\"Sequential Tagger accuracy: \", accuracy_trigram_tagger)"
   ]
  },
  {
   "cell_type": "markdown",
   "metadata": {},
   "source": [
    "As We can see our sequential tagger gives an accuracy of 95%. We will use this sequential tagger as the backoff for the standard Viterbi tagger"
   ]
  },
  {
   "cell_type": "code",
   "execution_count": 308,
   "metadata": {},
   "outputs": [],
   "source": [
    "def Viterbi_with_backoff(words, train_bag = train_tagged_words, backoff = trigram_tagger):\n",
    "    state = []\n",
    "    T = list(set([pair[1] for pair in train_bag]))\n",
    "    \n",
    "    for key, word in enumerate(words):\n",
    "        #initialise list of probability column for a given observation\n",
    "        if word in tokens:\n",
    "            p = []\n",
    "            for tag in T:\n",
    "                if key == 0:\n",
    "                    transition_p = tags_df.loc['.', tag]\n",
    "                else:\n",
    "                    transition_p = tags_df.loc[state[-1], tag]\n",
    "\n",
    "                # compute emission and state probabilities\n",
    "                emission_p = word_given_tag(words[key], tag)[0]/word_given_tag(words[key], tag)[1]\n",
    "                state_probability = emission_p * transition_p    \n",
    "                p.append(state_probability)\n",
    "\n",
    "            pmax = max(p)\n",
    "            # getting state for which probability is maximum\n",
    "            state_max = T[p.index(pmax)] \n",
    "            state.append(state_max)\n",
    "        else:\n",
    "            state.append(trigram_tagger.tag_sents([[word]])[0][0][1])\n",
    "    return list(zip(words, state))"
   ]
  },
  {
   "cell_type": "markdown",
   "metadata": {},
   "source": [
    "#### Evaluating tagging accuracy"
   ]
  },
  {
   "cell_type": "code",
   "execution_count": 309,
   "metadata": {},
   "outputs": [
    {
     "data": {
      "text/plain": [
       "['When',\n",
       " 'their',\n",
       " 'changes',\n",
       " 'are',\n",
       " 'completed',\n",
       " '*-137',\n",
       " '*T*-1',\n",
       " ',',\n",
       " 'and',\n",
       " 'after',\n",
       " 'they',\n",
       " 'have',\n",
       " 'worked',\n",
       " 'up',\n",
       " 'a',\n",
       " 'sweat',\n",
       " ',',\n",
       " 'ringers',\n",
       " 'often',\n",
       " 'skip',\n",
       " 'off',\n",
       " 'to',\n",
       " 'the',\n",
       " 'local',\n",
       " 'pub',\n",
       " ',',\n",
       " '*-2',\n",
       " 'leaving',\n",
       " 'worship',\n",
       " 'for',\n",
       " 'others',\n",
       " 'below',\n",
       " '.',\n",
       " 'The',\n",
       " 'irony',\n",
       " 'is',\n",
       " 'that',\n",
       " 'the',\n",
       " 'attack',\n",
       " 'commercial',\n",
       " ',',\n",
       " 'after',\n",
       " '*-1',\n",
       " 'getting',\n",
       " 'a',\n",
       " 'boost',\n",
       " 'in',\n",
       " 'last',\n",
       " 'year',\n",
       " \"'s\",\n",
       " 'presidential',\n",
       " 'campaign',\n",
       " ',',\n",
       " 'has',\n",
       " 'come',\n",
       " 'of',\n",
       " 'age',\n",
       " 'in',\n",
       " 'an',\n",
       " 'off-off',\n",
       " 'election',\n",
       " 'year',\n",
       " 'with',\n",
       " 'only',\n",
       " 'a',\n",
       " 'few',\n",
       " 'contests',\n",
       " 'scattered',\n",
       " '*',\n",
       " 'across',\n",
       " 'the',\n",
       " 'country',\n",
       " '.',\n",
       " '*',\n",
       " 'Related',\n",
       " 'to',\n",
       " 'that',\n",
       " 'decision',\n",
       " ',',\n",
       " 'the',\n",
       " 'company',\n",
       " 'said',\n",
       " '0',\n",
       " 'it',\n",
       " 'was',\n",
       " 'converting',\n",
       " 'its',\n",
       " 'Santa',\n",
       " 'Clara',\n",
       " ',',\n",
       " 'Calif.',\n",
       " ',',\n",
       " 'factory',\n",
       " 'to',\n",
       " 'a',\n",
       " 'research',\n",
       " 'and',\n",
       " 'development',\n",
       " 'facility',\n",
       " '.',\n",
       " 'Like',\n",
       " 'other',\n",
       " 'forms',\n",
       " 'of',\n",
       " 'arbitrage',\n",
       " ',',\n",
       " 'it',\n",
       " 'merely',\n",
       " 'seeks',\n",
       " '*-1',\n",
       " 'to',\n",
       " 'take',\n",
       " 'advantage',\n",
       " 'of',\n",
       " 'momentary',\n",
       " 'discrepancies',\n",
       " 'in',\n",
       " 'the',\n",
       " 'price',\n",
       " 'of',\n",
       " 'a',\n",
       " 'single',\n",
       " 'product',\n",
       " '--',\n",
       " 'in',\n",
       " 'this',\n",
       " 'case',\n",
       " ',',\n",
       " 'a',\n",
       " 'basket',\n",
       " 'of',\n",
       " 'stocks',\n",
       " '--',\n",
       " 'in',\n",
       " 'different',\n",
       " 'markets',\n",
       " '--',\n",
       " 'in',\n",
       " 'this',\n",
       " 'case',\n",
       " 'the',\n",
       " 'New',\n",
       " 'York',\n",
       " 'Stock',\n",
       " 'Exchange',\n",
       " 'and',\n",
       " 'the',\n",
       " 'Chicago',\n",
       " 'futures',\n",
       " 'markets',\n",
       " '.',\n",
       " 'Diaper',\n",
       " 'shortages',\n",
       " 'this',\n",
       " 'summer',\n",
       " 'limited',\n",
       " 'growth',\n",
       " 'at',\n",
       " 'Stork',\n",
       " 'Diaper',\n",
       " 'Services',\n",
       " ',',\n",
       " 'Springfield',\n",
       " ',',\n",
       " 'Mass.',\n",
       " ',',\n",
       " 'where',\n",
       " 'business',\n",
       " 'is',\n",
       " 'up',\n",
       " '25',\n",
       " '%',\n",
       " 'in',\n",
       " '*T*-1']"
      ]
     },
     "execution_count": 309,
     "metadata": {},
     "output_type": "execute_result"
    }
   ],
   "source": [
    "test_run_base = [tup for sent in test_run for tup in sent]\n",
    "\n",
    "# list of untagged words\n",
    "test_tagged_words = [tup[0] for sent in test_run for tup in sent]\n",
    "test_tagged_words"
   ]
  },
  {
   "cell_type": "code",
   "execution_count": 310,
   "metadata": {},
   "outputs": [
    {
     "data": {
      "text/plain": [
       "[('When', 'ADV'),\n",
       " ('their', 'PRON'),\n",
       " ('changes', 'NOUN'),\n",
       " ('are', 'VERB'),\n",
       " ('completed', 'VERB'),\n",
       " ('*-137', 'NOUN'),\n",
       " ('*T*-1', 'X'),\n",
       " (',', '.'),\n",
       " ('and', 'CONJ'),\n",
       " ('after', 'ADP'),\n",
       " ('they', 'PRON'),\n",
       " ('have', 'VERB'),\n",
       " ('worked', 'VERB'),\n",
       " ('up', 'ADV'),\n",
       " ('a', 'DET'),\n",
       " ('sweat', 'NOUN'),\n",
       " (',', '.'),\n",
       " ('ringers', 'NOUN'),\n",
       " ('often', 'ADV'),\n",
       " ('skip', 'NOUN'),\n",
       " ('off', 'PRT'),\n",
       " ('to', 'PRT'),\n",
       " ('the', 'DET'),\n",
       " ('local', 'ADJ'),\n",
       " ('pub', 'NOUN'),\n",
       " (',', '.'),\n",
       " ('*-2', 'X'),\n",
       " ('leaving', 'VERB'),\n",
       " ('worship', 'NOUN'),\n",
       " ('for', 'ADP'),\n",
       " ('others', 'NOUN'),\n",
       " ('below', 'ADP'),\n",
       " ('.', '.'),\n",
       " ('The', 'DET'),\n",
       " ('irony', 'NOUN'),\n",
       " ('is', 'VERB'),\n",
       " ('that', 'ADP'),\n",
       " ('the', 'DET'),\n",
       " ('attack', 'NOUN'),\n",
       " ('commercial', 'NOUN'),\n",
       " (',', '.'),\n",
       " ('after', 'ADP'),\n",
       " ('*-1', 'X'),\n",
       " ('getting', 'VERB'),\n",
       " ('a', 'DET'),\n",
       " ('boost', 'NOUN'),\n",
       " ('in', 'ADP'),\n",
       " ('last', 'ADJ'),\n",
       " ('year', 'NOUN'),\n",
       " (\"'s\", 'PRT'),\n",
       " ('presidential', 'ADJ'),\n",
       " ('campaign', 'NOUN'),\n",
       " (',', '.'),\n",
       " ('has', 'VERB'),\n",
       " ('come', 'VERB'),\n",
       " ('of', 'ADP'),\n",
       " ('age', 'NOUN'),\n",
       " ('in', 'ADP'),\n",
       " ('an', 'DET'),\n",
       " ('off-off', 'NOUN'),\n",
       " ('election', 'NOUN'),\n",
       " ('year', 'NOUN'),\n",
       " ('with', 'ADP'),\n",
       " ('only', 'ADV'),\n",
       " ('a', 'DET'),\n",
       " ('few', 'ADJ'),\n",
       " ('contests', 'NOUN'),\n",
       " ('scattered', 'VERB'),\n",
       " ('*', 'X'),\n",
       " ('across', 'ADP'),\n",
       " ('the', 'DET'),\n",
       " ('country', 'NOUN'),\n",
       " ('.', '.'),\n",
       " ('*', 'X'),\n",
       " ('Related', 'VERB'),\n",
       " ('to', 'PRT'),\n",
       " ('that', 'DET'),\n",
       " ('decision', 'NOUN'),\n",
       " (',', '.'),\n",
       " ('the', 'DET'),\n",
       " ('company', 'NOUN'),\n",
       " ('said', 'VERB'),\n",
       " ('0', 'X'),\n",
       " ('it', 'PRON'),\n",
       " ('was', 'VERB'),\n",
       " ('converting', 'VERB'),\n",
       " ('its', 'PRON'),\n",
       " ('Santa', 'NOUN'),\n",
       " ('Clara', 'NOUN'),\n",
       " (',', '.'),\n",
       " ('Calif.', 'NOUN'),\n",
       " (',', '.'),\n",
       " ('factory', 'NOUN'),\n",
       " ('to', 'PRT'),\n",
       " ('a', 'DET'),\n",
       " ('research', 'NOUN'),\n",
       " ('and', 'CONJ'),\n",
       " ('development', 'NOUN'),\n",
       " ('facility', 'NOUN'),\n",
       " ('.', '.'),\n",
       " ('Like', 'ADP'),\n",
       " ('other', 'ADJ'),\n",
       " ('forms', 'NOUN'),\n",
       " ('of', 'ADP'),\n",
       " ('arbitrage', 'NOUN'),\n",
       " (',', '.'),\n",
       " ('it', 'PRON'),\n",
       " ('merely', 'ADV'),\n",
       " ('seeks', 'VERB'),\n",
       " ('*-1', 'X'),\n",
       " ('to', 'PRT'),\n",
       " ('take', 'VERB'),\n",
       " ('advantage', 'NOUN'),\n",
       " ('of', 'ADP'),\n",
       " ('momentary', 'NOUN'),\n",
       " ('discrepancies', 'NOUN'),\n",
       " ('in', 'ADP'),\n",
       " ('the', 'DET'),\n",
       " ('price', 'NOUN'),\n",
       " ('of', 'ADP'),\n",
       " ('a', 'DET'),\n",
       " ('single', 'ADJ'),\n",
       " ('product', 'NOUN'),\n",
       " ('--', '.'),\n",
       " ('in', 'ADP'),\n",
       " ('this', 'DET'),\n",
       " ('case', 'NOUN'),\n",
       " (',', '.'),\n",
       " ('a', 'DET'),\n",
       " ('basket', 'NOUN'),\n",
       " ('of', 'ADP'),\n",
       " ('stocks', 'NOUN'),\n",
       " ('--', '.'),\n",
       " ('in', 'ADP'),\n",
       " ('different', 'ADJ'),\n",
       " ('markets', 'NOUN'),\n",
       " ('--', '.'),\n",
       " ('in', 'ADP'),\n",
       " ('this', 'DET'),\n",
       " ('case', 'NOUN'),\n",
       " ('the', 'DET'),\n",
       " ('New', 'NOUN'),\n",
       " ('York', 'NOUN'),\n",
       " ('Stock', 'NOUN'),\n",
       " ('Exchange', 'NOUN'),\n",
       " ('and', 'CONJ'),\n",
       " ('the', 'DET'),\n",
       " ('Chicago', 'NOUN'),\n",
       " ('futures', 'NOUN'),\n",
       " ('markets', 'NOUN'),\n",
       " ('.', '.'),\n",
       " ('Diaper', 'NOUN'),\n",
       " ('shortages', 'VERB'),\n",
       " ('this', 'DET'),\n",
       " ('summer', 'NOUN'),\n",
       " ('limited', 'VERB'),\n",
       " ('growth', 'NOUN'),\n",
       " ('at', 'ADP'),\n",
       " ('Stork', 'NOUN'),\n",
       " ('Diaper', 'NOUN'),\n",
       " ('Services', 'NOUN'),\n",
       " (',', '.'),\n",
       " ('Springfield', 'NOUN'),\n",
       " (',', '.'),\n",
       " ('Mass.', 'NOUN'),\n",
       " (',', '.'),\n",
       " ('where', 'ADV'),\n",
       " ('business', 'NOUN'),\n",
       " ('is', 'VERB'),\n",
       " ('up', 'ADV'),\n",
       " ('25', 'NUM'),\n",
       " ('%', 'NOUN'),\n",
       " ('in', 'ADP'),\n",
       " ('*T*-1', 'X')]"
      ]
     },
     "execution_count": 310,
     "metadata": {},
     "output_type": "execute_result"
    }
   ],
   "source": [
    "# tagging the test sentences\n",
    "tagged_seq_modified = Viterbi_with_backoff(test_tagged_words)\n",
    "tagged_seq_modified"
   ]
  },
  {
   "cell_type": "code",
   "execution_count": 311,
   "metadata": {},
   "outputs": [
    {
     "data": {
      "text/plain": [
       "0.9540229885057471"
      ]
     },
     "execution_count": 311,
     "metadata": {},
     "output_type": "execute_result"
    }
   ],
   "source": [
    "# accuracy\n",
    "check1 = [i for i, j in zip(tagged_seq_modified, test_run_base) if i == j]\n",
    "accuracy_viterbi_modified = len(check1)/len(tagged_seq_modified)\n",
    "accuracy_viterbi_modified"
   ]
  },
  {
   "cell_type": "code",
   "execution_count": 312,
   "metadata": {},
   "outputs": [
    {
     "data": {
      "text/plain": [
       "[[('completed', 'VERB'), (('*-137', 'ADP'), ('*-137', 'X'))],\n",
       " [('worked', 'VERB'), (('up', 'ADV'), ('up', 'PRT'))],\n",
       " [('a', 'DET'), (('sweat', 'ADP'), ('sweat', 'NOUN'))],\n",
       " [('often', 'ADV'), (('skip', 'ADP'), ('skip', 'VERB'))],\n",
       " [('skip', 'VERB'), (('off', 'ADJ'), ('off', 'PRT'))],\n",
       " [('local', 'ADJ'), (('pub', 'ADP'), ('pub', 'NOUN'))],\n",
       " [('others', 'NOUN'), (('below', 'ADP'), ('below', 'ADV'))],\n",
       " [('The', 'DET'), (('irony', 'ADP'), ('irony', 'NOUN'))],\n",
       " [('an', 'DET'), (('off-off', 'ADP'), ('off-off', 'ADJ'))],\n",
       " [('contests', 'NOUN'), (('scattered', 'ADP'), ('scattered', 'VERB'))],\n",
       " [('*', 'X'), (('Related', 'ADP'), ('Related', 'VERB'))],\n",
       " [('was', 'VERB'), (('converting', 'ADP'), ('converting', 'VERB'))],\n",
       " [('Santa', 'NOUN'), (('Clara', 'ADP'), ('Clara', 'NOUN'))],\n",
       " [('of', 'ADP'), (('momentary', 'ADP'), ('momentary', 'ADJ'))],\n",
       " [('Diaper', 'NOUN'), (('shortages', 'ADP'), ('shortages', 'NOUN'))],\n",
       " [('at', 'ADP'), (('Stork', 'ADP'), ('Stork', 'NOUN'))],\n",
       " [(',', '.'), (('Springfield', 'ADP'), ('Springfield', 'NOUN'))],\n",
       " [('is', 'VERB'), (('up', 'ADV'), ('up', 'ADP'))]]"
      ]
     },
     "execution_count": 312,
     "metadata": {},
     "output_type": "execute_result"
    }
   ],
   "source": [
    "incorrect_tagged_vanilla_viterbi = [[test_run_base[i-1],j] for i, j in enumerate(zip(tagged_seq, test_run_base)) if j[0]!=j[1]]\n",
    "incorrect_tagged_vanilla_viterbi"
   ]
  },
  {
   "cell_type": "markdown",
   "metadata": {},
   "source": [
    "### Compare the tagging accuracies of the modifications with the vanilla Viterbi algorithm"
   ]
  },
  {
   "cell_type": "code",
   "execution_count": 313,
   "metadata": {},
   "outputs": [
    {
     "name": "stdout",
     "output_type": "stream",
     "text": [
      "Accuracy for lexicon tagger:  0.9479102326539016\n",
      "Accuracy for biagram tagger:  0.950792670372658\n",
      "Accuracy for trigram tagger:  0.949763228330245\n",
      "Accuracy for vanilla Viterbi Algorithm:  0.896551724137931\n",
      "Accuracy for vanilla Viterbi Algorithm:  0.896551724137931\n",
      "Accuracy for Viterbi Algorithm sequential backoff (final):  0.9540229885057471\n"
     ]
    }
   ],
   "source": [
    "print(\"Accuracy for lexicon tagger: \", lexicon_tagger.evaluate(test_set))\n",
    "print(\"Accuracy for biagram tagger: \", bigram_tagger.evaluate(test_set))\n",
    "print(\"Accuracy for trigram tagger: \", accuracy_trigram_tagger)\n",
    "print(\"Accuracy for vanilla Viterbi Algorithm: \", accuracy)\n",
    "print(\"Accuracy for vanilla Viterbi Algorithm: \", accuracy)\n",
    "print(\"Accuracy for Viterbi Algorithm sequential backoff (final): \", accuracy_viterbi_modified)"
   ]
  },
  {
   "cell_type": "markdown",
   "metadata": {},
   "source": [
    "### List down cases which were incorrectly tagged by original POS tagger and got corrected by your modifications"
   ]
  },
  {
   "cell_type": "code",
   "execution_count": 314,
   "metadata": {},
   "outputs": [],
   "source": [
    "def corrected_tags(sentence):\n",
    "    words = word_tokenize(sentence)\n",
    "    tagged_seq_viterbi = Viterbi(words)\n",
    "    tagged_seq_viterbi_modified = Viterbi_with_backoff(words)\n",
    "    corrected_words = [[j] for (i, j) in enumerate(zip(tagged_seq_viterbi, tagged_seq_viterbi_modified)) if j[0] != j[1]]\n",
    "    return corrected_words"
   ]
  },
  {
   "cell_type": "code",
   "execution_count": 315,
   "metadata": {},
   "outputs": [
    {
     "data": {
      "text/plain": [
       "[[(('Android', 'ADP'), ('Android', 'NOUN'))],\n",
       " [(('Google', 'ADP'), ('Google', 'NOUN'))]]"
      ]
     },
     "execution_count": 315,
     "metadata": {},
     "output_type": "execute_result"
    }
   ],
   "source": [
    "corrected_tags('Android is a mobile operating system developed by Google.')"
   ]
  },
  {
   "cell_type": "code",
   "execution_count": 316,
   "metadata": {},
   "outputs": [
    {
     "data": {
      "text/plain": [
       "[[(('Android', 'ADP'), ('Android', 'NOUN'))],\n",
       " [(('OS', 'ADP'), ('OS', 'NOUN'))],\n",
       " [(('worldwide', 'ADP'), ('worldwide', 'NOUN'))],\n",
       " [(('smartphones', 'ADP'), ('smartphones', 'VERB'))],\n",
       " [(('2011', 'ADP'), ('2011', 'NUM'))],\n",
       " [(('2013', 'ADP'), ('2013', 'NUM'))]]"
      ]
     },
     "execution_count": 316,
     "metadata": {},
     "output_type": "execute_result"
    }
   ],
   "source": [
    "corrected_tags('Android has been the best-selling OS worldwide on smartphones since 2011 and on tablets since 2013.')"
   ]
  },
  {
   "cell_type": "code",
   "execution_count": 317,
   "metadata": {},
   "outputs": [
    {
     "data": {
      "text/plain": [
       "[[(('Google', 'ADP'), ('Google', 'NOUN'))],\n",
       " [(('Twitter', 'ADP'), ('Twitter', 'NOUN'))],\n",
       " [(('2015', 'ADP'), ('2015', 'NUM'))],\n",
       " [(('that', 'DET'), ('that', 'ADP'))],\n",
       " [(('Google', 'ADP'), ('Google', 'NOUN'))],\n",
       " [(('Twitter', 'ADP'), ('Twitter', 'NOUN'))],\n",
       " [(('firehose', 'ADP'), ('firehose', 'NOUN'))]]"
      ]
     },
     "execution_count": 317,
     "metadata": {},
     "output_type": "execute_result"
    }
   ],
   "source": [
    "corrected_tags('Google and Twitter made a deal in 2015 that gave Google access to Twitter\\'s firehose.')"
   ]
  },
  {
   "cell_type": "code",
   "execution_count": 318,
   "metadata": {},
   "outputs": [
    {
     "data": {
      "text/plain": [
       "[[(('Twitter', 'ADP'), ('Twitter', 'NOUN'))],\n",
       " [(('online', 'ADP'), ('online', 'NOUN'))],\n",
       " [(('interact', 'ADP'), ('interact', 'NOUN'))],\n",
       " [(('messages', 'ADP'), ('messages', 'VERB'))],\n",
       " [(('known', 'ADJ'), ('known', 'VERB'))],\n",
       " [(('tweets', 'ADP'), ('tweets', 'NOUN'))]]"
      ]
     },
     "execution_count": 318,
     "metadata": {},
     "output_type": "execute_result"
    }
   ],
   "source": [
    "corrected_tags('Twitter is an online news and social networking service on which users post and interact with messages known as tweets.')"
   ]
  },
  {
   "cell_type": "code",
   "execution_count": 319,
   "metadata": {},
   "outputs": [
    {
     "data": {
      "text/plain": [
       "[[(('domineering', 'ADP'), ('domineering', 'VERB'))],\n",
       " [(('personality', 'ADP'), ('personality', 'NOUN'))]]"
      ]
     },
     "execution_count": 319,
     "metadata": {},
     "output_type": "execute_result"
    }
   ],
   "source": [
    "corrected_tags('Before entering politics, Donald Trump was a domineering businessman and a television personality.')"
   ]
  },
  {
   "cell_type": "code",
   "execution_count": 320,
   "metadata": {},
   "outputs": [
    {
     "data": {
      "text/plain": [
       "[[(('2018', 'ADP'), ('2018', 'NUM'))],\n",
       " [(('FIFA', 'ADP'), ('FIFA', 'NOUN'))],\n",
       " [(('Cup', 'ADP'), ('Cup', 'NOUN'))],\n",
       " [(('21st', 'ADP'), ('21st', 'NOUN'))],\n",
       " [(('FIFA', 'ADP'), ('FIFA', 'NOUN'))],\n",
       " [(('Cup', 'ADP'), ('Cup', 'NOUN'))],\n",
       " [(('tournament', 'ADP'), ('tournament', 'NOUN'))],\n",
       " [(('contested', 'ADP'), ('contested', 'VERB'))]]"
      ]
     },
     "execution_count": 320,
     "metadata": {},
     "output_type": "execute_result"
    }
   ],
   "source": [
    "corrected_tags('The 2018 FIFA World Cup is the 21st FIFA World Cup, an international football tournament contested once every four years.')"
   ]
  },
  {
   "cell_type": "code",
   "execution_count": 321,
   "metadata": {},
   "outputs": [
    {
     "data": {
      "text/plain": [
       "[[(('Cup', 'ADP'), ('Cup', 'NOUN'))]]"
      ]
     },
     "execution_count": 321,
     "metadata": {},
     "output_type": "execute_result"
    }
   ],
   "source": [
    "corrected_tags('This is the first World Cup to be held in Eastern Europe and the 11th time that it has been held in Europe.')"
   ]
  },
  {
   "cell_type": "code",
   "execution_count": 322,
   "metadata": {},
   "outputs": [
    {
     "data": {
      "text/plain": [
       "[[(('trips', 'ADP'), ('trips', 'NOUN'))]]"
      ]
     },
     "execution_count": 322,
     "metadata": {},
     "output_type": "execute_result"
    }
   ],
   "source": [
    "corrected_tags('Show me the cheapest round trips from Dallas to Atlanta.')"
   ]
  },
  {
   "cell_type": "code",
   "execution_count": 323,
   "metadata": {},
   "outputs": [
    {
     "data": {
      "text/plain": [
       "[]"
      ]
     },
     "execution_count": 323,
     "metadata": {},
     "output_type": "execute_result"
    }
   ],
   "source": [
    "corrected_tags('I would like to see flights from Denver to Philadelphia.')"
   ]
  },
  {
   "cell_type": "code",
   "execution_count": 324,
   "metadata": {},
   "outputs": [
    {
     "data": {
      "text/plain": [
       "[[(('arriving', 'ADP'), ('arriving', 'VERB'))]]"
      ]
     },
     "execution_count": 324,
     "metadata": {},
     "output_type": "execute_result"
    }
   ],
   "source": [
    "corrected_tags('Show me the price of the flights leaving Atlanta at about 3 in the afternoon and arriving in San Francisco.')"
   ]
  },
  {
   "cell_type": "code",
   "execution_count": 325,
   "metadata": {},
   "outputs": [
    {
     "data": {
      "text/plain": [
       "[[(('NASA', 'ADP'), ('NASA', 'NOUN'))],\n",
       " [(('invited', 'ADP'), ('invited', 'VERB'))],\n",
       " [(('ICESAT-2', 'ADP'), ('ICESAT-2', 'NOUN'))],\n",
       " [(('Satellite', 'ADP'), ('Satellite', 'NOUN'))]]"
      ]
     },
     "execution_count": 325,
     "metadata": {},
     "output_type": "execute_result"
    }
   ],
   "source": [
    "corrected_tags('NASA invited social media users to experience the launch of ICESAT-2 Satellite.')"
   ]
  }
 ],
 "metadata": {
  "kernelspec": {
   "display_name": "Python 3",
   "language": "python",
   "name": "python3"
  },
  "language_info": {
   "codemirror_mode": {
    "name": "ipython",
    "version": 3
   },
   "file_extension": ".py",
   "mimetype": "text/x-python",
   "name": "python",
   "nbconvert_exporter": "python",
   "pygments_lexer": "ipython3",
   "version": "3.7.6"
  }
 },
 "nbformat": 4,
 "nbformat_minor": 2
}
