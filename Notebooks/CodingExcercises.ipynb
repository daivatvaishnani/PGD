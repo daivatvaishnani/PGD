{
 "cells": [
  {
   "cell_type": "code",
   "execution_count": 26,
   "metadata": {},
   "outputs": [],
   "source": [
    "import math\n",
    "import re"
   ]
  },
  {
   "cell_type": "code",
   "execution_count": 27,
   "metadata": {},
   "outputs": [
    {
     "data": {
      "text/plain": [
       "[[1, 2, 3], [4, 5, 6], [7, 8, 9], [10]]"
      ]
     },
     "execution_count": 27,
     "metadata": {},
     "output_type": "execute_result"
    }
   ],
   "source": [
    "inp = [1,2,3,4,5,6,7,8,9,10]\n",
    "k = 3\n",
    "\n",
    "def spliter(arr, nums_in_a_chunk):\n",
    "    len_arr = len(arr)\n",
    "    chunks = math.ceil(len_arr / nums_in_a_chunk)\n",
    "    filled = 0\n",
    "    sub_arr = [[] for x in range(0, chunks)]\n",
    "    filled = 0\n",
    "    for x in arr:\n",
    "        chunk = int(filled / nums_in_a_chunk)\n",
    "        filled += 1\n",
    "        sub_arr[chunk].append(x)\n",
    "    return sub_arr\n",
    "\n",
    "spliter(inp, k)"
   ]
  },
  {
   "cell_type": "code",
   "execution_count": 54,
   "metadata": {},
   "outputs": [
    {
     "data": {
      "text/plain": [
       "False"
      ]
     },
     "execution_count": 54,
     "metadata": {},
     "output_type": "execute_result"
    }
   ],
   "source": [
    "letters = \"ccwd\"\n",
    "guess = \"crossword\"\n",
    "\n",
    "def canCross(letters, guess):\n",
    "    regx = \"\"\n",
    "    for x in letters:\n",
    "        regx += \".*\" + x\n",
    "    regx += \".*\"\n",
    "    x = re.findall(regx, guess)\n",
    "    return len(x) > 0\n",
    "\n",
    "canCross(letters, guess)"
   ]
  },
  {
   "cell_type": "code",
   "execution_count": 58,
   "metadata": {},
   "outputs": [
    {
     "name": "stdout",
     "output_type": "stream",
     "text": [
      "[[1, 2, 3], [4, 5], [6, 7, 8]]\n"
     ]
    }
   ],
   "source": [
    "lis = [[1,2,3],[],[4,5],[],[],[6,7,8]]\n",
    "newlis = []\n",
    "\n",
    "for x in lis:\n",
    "    if len(x) > 0:\n",
    "        newlis.append(x)\n",
    "        \n",
    "print(newlis)"
   ]
  },
  {
   "cell_type": "code",
   "execution_count": 83,
   "metadata": {},
   "outputs": [
    {
     "name": "stdout",
     "output_type": "stream",
     "text": [
      "January\n"
     ]
    }
   ],
   "source": [
    "lis = [2017,1,1,2017,2,1]\n",
    "\n",
    "from datetime import datetime, timedelta\n",
    "from collections import OrderedDict\n",
    "\n",
    "start = datetime(year=lis[0], month=lis[1], day=lis[2])\n",
    "end = datetime(year=lis[3], month=lis[4], day=lis[5])\n",
    "\n",
    "months = OrderedDict(((start + timedelta(_)).strftime(\"%B\"), 0) for _ in range((end - start).days)) \n",
    "\n",
    "if start == end:\n",
    "    print(start.strftime(\"%B\"))\n",
    "\n",
    "for x in months.keys():\n",
    "    print(x)"
   ]
  },
  {
   "cell_type": "code",
   "execution_count": null,
   "metadata": {},
   "outputs": [],
   "source": []
  }
 ],
 "metadata": {
  "kernelspec": {
   "display_name": "Python 3",
   "language": "python",
   "name": "python3"
  },
  "language_info": {
   "codemirror_mode": {
    "name": "ipython",
    "version": 3
   },
   "file_extension": ".py",
   "mimetype": "text/x-python",
   "name": "python",
   "nbconvert_exporter": "python",
   "pygments_lexer": "ipython3",
   "version": "3.7.6"
  }
 },
 "nbformat": 4,
 "nbformat_minor": 4
}
