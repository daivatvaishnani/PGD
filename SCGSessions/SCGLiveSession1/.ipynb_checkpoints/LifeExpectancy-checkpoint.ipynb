{
 "cells": [
  {
   "cell_type": "code",
   "execution_count": 2,
   "metadata": {},
   "outputs": [],
   "source": [
    "import pandas as pd"
   ]
  },
  {
   "cell_type": "code",
   "execution_count": 3,
   "metadata": {},
   "outputs": [],
   "source": [
    "data = pd.read_csv('dat.csv')"
   ]
  },
  {
   "cell_type": "code",
   "execution_count": 4,
   "metadata": {},
   "outputs": [
    {
     "data": {
      "text/html": [
       "<div>\n",
       "<style scoped>\n",
       "    .dataframe tbody tr th:only-of-type {\n",
       "        vertical-align: middle;\n",
       "    }\n",
       "\n",
       "    .dataframe tbody tr th {\n",
       "        vertical-align: top;\n",
       "    }\n",
       "\n",
       "    .dataframe thead th {\n",
       "        text-align: right;\n",
       "    }\n",
       "</style>\n",
       "<table border=\"1\" class=\"dataframe\">\n",
       "  <thead>\n",
       "    <tr style=\"text-align: right;\">\n",
       "      <th></th>\n",
       "      <th>geo</th>\n",
       "      <th>life_expectancy_years</th>\n",
       "      <th>time</th>\n",
       "    </tr>\n",
       "  </thead>\n",
       "  <tbody>\n",
       "    <tr>\n",
       "      <th>0</th>\n",
       "      <td>afg</td>\n",
       "      <td>28.21</td>\n",
       "      <td>1800</td>\n",
       "    </tr>\n",
       "    <tr>\n",
       "      <th>1</th>\n",
       "      <td>afg</td>\n",
       "      <td>28.20</td>\n",
       "      <td>1801</td>\n",
       "    </tr>\n",
       "    <tr>\n",
       "      <th>2</th>\n",
       "      <td>afg</td>\n",
       "      <td>28.19</td>\n",
       "      <td>1802</td>\n",
       "    </tr>\n",
       "    <tr>\n",
       "      <th>3</th>\n",
       "      <td>afg</td>\n",
       "      <td>28.18</td>\n",
       "      <td>1803</td>\n",
       "    </tr>\n",
       "    <tr>\n",
       "      <th>4</th>\n",
       "      <td>afg</td>\n",
       "      <td>28.17</td>\n",
       "      <td>1804</td>\n",
       "    </tr>\n",
       "    <tr>\n",
       "      <th>...</th>\n",
       "      <td>...</td>\n",
       "      <td>...</td>\n",
       "      <td>...</td>\n",
       "    </tr>\n",
       "    <tr>\n",
       "      <th>5430</th>\n",
       "      <td>brn</td>\n",
       "      <td>78.70</td>\n",
       "      <td>2011</td>\n",
       "    </tr>\n",
       "    <tr>\n",
       "      <th>5431</th>\n",
       "      <td>brn</td>\n",
       "      <td>78.70</td>\n",
       "      <td>2012</td>\n",
       "    </tr>\n",
       "    <tr>\n",
       "      <th>5432</th>\n",
       "      <td>brn</td>\n",
       "      <td>78.70</td>\n",
       "      <td>2013</td>\n",
       "    </tr>\n",
       "    <tr>\n",
       "      <th>5433</th>\n",
       "      <td>brn</td>\n",
       "      <td>78.70</td>\n",
       "      <td>2014</td>\n",
       "    </tr>\n",
       "    <tr>\n",
       "      <th>5434</th>\n",
       "      <td>brn</td>\n",
       "      <td>78.70</td>\n",
       "      <td>2015</td>\n",
       "    </tr>\n",
       "  </tbody>\n",
       "</table>\n",
       "<p>5435 rows × 3 columns</p>\n",
       "</div>"
      ],
      "text/plain": [
       "      geo  life_expectancy_years  time\n",
       "0     afg                  28.21  1800\n",
       "1     afg                  28.20  1801\n",
       "2     afg                  28.19  1802\n",
       "3     afg                  28.18  1803\n",
       "4     afg                  28.17  1804\n",
       "...   ...                    ...   ...\n",
       "5430  brn                  78.70  2011\n",
       "5431  brn                  78.70  2012\n",
       "5432  brn                  78.70  2013\n",
       "5433  brn                  78.70  2014\n",
       "5434  brn                  78.70  2015\n",
       "\n",
       "[5435 rows x 3 columns]"
      ]
     },
     "execution_count": 4,
     "metadata": {},
     "output_type": "execute_result"
    }
   ],
   "source": [
    "data"
   ]
  },
  {
   "cell_type": "code",
   "execution_count": 10,
   "metadata": {},
   "outputs": [
    {
     "data": {
      "text/plain": [
       "arm    216\n",
       "brn    216\n",
       "ago    216\n",
       "alb    216\n",
       "bra    216\n",
       "atg    216\n",
       "bhs    216\n",
       "blr    216\n",
       "bol    216\n",
       "arg    216\n",
       "btn    216\n",
       "afg    216\n",
       "bih    216\n",
       "bgd    216\n",
       "dza    216\n",
       "ben    216\n",
       "bhr    216\n",
       "brb    216\n",
       "aze    216\n",
       "bwa    216\n",
       "bel    216\n",
       "aut    216\n",
       "aus    216\n",
       "blz    216\n",
       "abw    205\n",
       "and     46\n",
       "Name: geo, dtype: int64"
      ]
     },
     "execution_count": 10,
     "metadata": {},
     "output_type": "execute_result"
    }
   ],
   "source": [
    "data.geo.value_counts()"
   ]
  },
  {
   "cell_type": "code",
   "execution_count": 13,
   "metadata": {},
   "outputs": [],
   "source": [
    "byCountry = data.groupby(by=['geo'])"
   ]
  },
  {
   "cell_type": "code",
   "execution_count": 21,
   "metadata": {},
   "outputs": [
    {
     "data": {
      "text/plain": [
       "geo\n",
       "afg    32.849977\n",
       "ago    34.156481\n",
       "bgd    34.615694\n",
       "btn    37.090278\n",
       "ben    37.636620\n",
       "dza    39.575972\n",
       "bol    40.967037\n",
       "blz    41.249769\n",
       "aze    41.285324\n",
       "bhr    41.773750\n",
       "bwa    41.991898\n",
       "bra    42.762269\n",
       "brn    44.314630\n",
       "brb    45.412963\n",
       "arm    45.433241\n",
       "abw    45.553122\n",
       "bih    45.816713\n",
       "atg    45.980648\n",
       "bhs    46.047778\n",
       "alb    46.278981\n",
       "blr    47.539676\n",
       "arg    48.492500\n",
       "aut    50.391620\n",
       "aus    53.976898\n",
       "bel    54.362685\n",
       "and    81.182609\n",
       "Name: life_expectancy_years, dtype: float64"
      ]
     },
     "execution_count": 21,
     "metadata": {},
     "output_type": "execute_result"
    }
   ],
   "source": [
    "byCountry.life_expectancy_years.mean().sort_values()"
   ]
  },
  {
   "cell_type": "code",
   "execution_count": 16,
   "metadata": {},
   "outputs": [],
   "source": [
    "import matplotlib as plt"
   ]
  },
  {
   "cell_type": "code",
   "execution_count": 23,
   "metadata": {},
   "outputs": [
    {
     "data": {
      "text/plain": [
       "<matplotlib.axes._subplots.AxesSubplot at 0x119fe3b10>"
      ]
     },
     "execution_count": 23,
     "metadata": {},
     "output_type": "execute_result"
    },
    {
     "data": {
      "image/png": "[encoded data removed]",
      "text/plain": [
       "<Figure size 720x720 with 1 Axes>"
      ]
     },
     "metadata": {
      "needs_background": "light"
     },
     "output_type": "display_data"
    }
   ],
   "source": [
    "byCountry.life_expectancy_years.mean().sort_values().plot.bar(figsize=(10,10))"
   ]
  },
  {
   "cell_type": "code",
   "execution_count": null,
   "metadata": {},
   "outputs": [],
   "source": []
  }
 ],
 "metadata": {
  "kernelspec": {
   "display_name": "Python 3",
   "language": "python",
   "name": "python3"
  },
  "language_info": {
   "codemirror_mode": {
    "name": "ipython",
    "version": 3
   },
   "file_extension": ".py",
   "mimetype": "text/x-python",
   "name": "python",
   "nbconvert_exporter": "python",
   "pygments_lexer": "ipython3",
   "version": "3.7.6"
  }
 },
 "nbformat": 4,
 "nbformat_minor": 4
}
